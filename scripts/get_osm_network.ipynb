{
 "cells": [
  {
   "cell_type": "code",
   "execution_count": 1,
   "metadata": {},
   "outputs": [],
   "source": [
    "import matplotlib.pyplot as plt\n",
    "import xml.etree.ElementTree as et\n",
    "import pandas as pd\n",
    "import urllib.request\n",
    "from shapely.geometry import Point, shape\n",
    "import json\n",
    "import math"
   ]
  },
  {
   "cell_type": "code",
   "execution_count": 2,
   "metadata": {},
   "outputs": [],
   "source": [
    "city='Detroit'\n",
    "SIM_AREA_PATH='./cities/'+city+'/clean/table_area.geojson'\n",
    "SIM_NETWORK_PATH_ROOT='./cities/'+city+'/clean/'\n",
    "\n",
    "sim_area=json.load(open(SIM_AREA_PATH))\n",
    "\n",
    "full_area=[shape(f['geometry']) for f in sim_area['features']]\n",
    "bounds=[shp.bounds for shp in full_area]\n",
    "boundsAll=[min([b[0] for b in bounds]), #W\n",
    "               min([b[1] for b in bounds]), #S\n",
    "               max([b[2] for b in bounds]), #E\n",
    "               max([b[3] for b in bounds])] #N"
   ]
  },
  {
   "cell_type": "code",
   "execution_count": 3,
   "metadata": {},
   "outputs": [],
   "source": [
    "query='http://api.openstreetmap.org/api/0.6/map?bbox='+','.join([str(b) for b in boundsAll])\n",
    "file = urllib.request.urlopen(query)\n",
    "xData=et.parse(file)\n",
    "file.close()\n",
    "\n",
    "root=xData.getroot()\n",
    "root.tag\n",
    "\n",
    "nodeLat=[]\n",
    "nodeLong=[]\n",
    "nodeId=[]\n",
    "aNodes=[]\n",
    "bNodes=[]\n",
    "hwTags=[]\n",
    "names=[]\n",
    "oneway=[]\n",
    "ref=[]\n",
    "maxspeed=[]\n",
    "osmid=[]\n",
    "\n",
    "for child in root:\n",
    "    if child.tag=='node':\n",
    "        nodeLat.extend([child.get('lat')])\n",
    "        nodeLong.extend([child.get('lon')])\n",
    "        nodeId.extend([child.get('id')])\n",
    "    elif child.tag=='way':\n",
    "        highwayTag, name, oneW, re, mSp=[], [], [], [], []\n",
    "        for t in child.findall('tag'):\n",
    "            key=t.get('k')\n",
    "            if key=='highway':\n",
    "                value=t.get('v')\n",
    "                highwayTag.extend([value])\n",
    "        #now confirmed if the child is a way: if so, loop through the tags again and save them\n",
    "        if any(highwayTag):\n",
    "            for t in child.findall('tag'):\n",
    "                if t.get('k')=='name':\n",
    "                    name=t.get('v')\n",
    "                if t.get('k')=='oneway':\n",
    "                    oneW=t.get('v')\n",
    "                if t.get('k')=='ref':\n",
    "                    re=t.get('v')\n",
    "                if t.get('k')=='maxspeed':\n",
    "                    mSp=t.get('v')\n",
    "            first=1\n",
    "            for gChild in child:\n",
    "                if gChild.tag=='nd':\n",
    "                    if first==1:\n",
    "                        #aNodes.extend([gChild.get('ref')])\n",
    "                        lastNode=gChild.get('ref')\n",
    "                    else:\n",
    "                        aNodes.extend([lastNode])\n",
    "                        lastNode=gChild.get('ref')\n",
    "                        bNodes.extend([lastNode])\n",
    "                        hwTags.extend([highwayTag[0]])\n",
    "                        names.extend([name])\n",
    "                        oneway.extend([oneW])\n",
    "                        ref.extend([re])\n",
    "                        maxspeed.extend([mSp])\n",
    "                        osmid.extend([list(child.getiterator())[0].attrib['id']])\n",
    "                    first=0"
   ]
  },
  {
   "cell_type": "code",
   "execution_count": 4,
   "metadata": {},
   "outputs": [],
   "source": [
    "latLong= [[nodeLat[i], nodeLong[i]] for i in range(len(nodeId))]\n",
    "LatLongDict = dict(zip(nodeId, latLong))\n",
    "\n",
    "aNodeLat=[LatLongDict[aNodes[i]][0] for i in range(len(aNodes))]\n",
    "aNodeLon=[LatLongDict[aNodes[i]][1] for i in range(len(aNodes))]\n",
    "bNodeLat=[LatLongDict[bNodes[i]][0] for i in range(len(bNodes))]\n",
    "bNodeLon=[LatLongDict[bNodes[i]][1] for i in range(len(bNodes))]\n",
    "\n",
    "network=pd.DataFrame({'aNodes':aNodes, 'bNodes':bNodes, \n",
    "'aNodeLat':aNodeLat, 'aNodeLon':aNodeLon,'bNodeLat':bNodeLat,'bNodeLon':bNodeLon, 'type':hwTags, \n",
    "'name':names, 'speed':maxspeed, 'ref':ref, 'osmid':osmid, 'oneway':oneway})"
   ]
  },
  {
   "cell_type": "code",
   "execution_count": 5,
   "metadata": {},
   "outputs": [],
   "source": [
    "%matplotlib inline"
   ]
  },
  {
   "cell_type": "code",
   "execution_count": 6,
   "metadata": {},
   "outputs": [],
   "source": [
    "from ipyleaflet import Map, Polyline, basemaps, basemap_to_tiles, Circle, Marker"
   ]
  },
  {
   "cell_type": "code",
   "execution_count": 7,
   "metadata": {},
   "outputs": [
    {
     "data": {
      "application/vnd.jupyter.widget-view+json": {
       "model_id": "d23eaa5f9987475f9632f6b4863c4006",
       "version_major": 2,
       "version_minor": 0
      },
      "text/plain": [
       "Map(basemap={'url': 'https://{s}.tile.openstreetmap.org/{z}/{x}/{y}.png', 'max_zoom': 19, 'attribution': 'Map …"
      ]
     },
     "metadata": {},
     "output_type": "display_data"
    }
   ],
   "source": [
    "polylines=[]\n",
    "m = Map(center = (aNodeLat[0], aNodeLon[0]), zoom =14, layers=[basemap_to_tiles(basemaps.CartoDB.DarkMatter)])\n",
    "lines=[]\n",
    "for ind, row in network.iterrows():\n",
    "    lines.append([[float(row['aNodeLat']), float(row['aNodeLon'])], [float(row['bNodeLat']), float(row['bNodeLon'])]])\n",
    "\n",
    "lineLayer = Polyline(\n",
    "    locations = lines,\n",
    "    weight=1,\n",
    "    opacity=1,\n",
    "    color='white',\n",
    "    fill=False\n",
    ")\n",
    "m.add_layer(lineLayer)\n",
    "m"
   ]
  },
  {
   "cell_type": "code",
   "execution_count": 8,
   "metadata": {},
   "outputs": [
    {
     "data": {
      "text/html": [
       "<div>\n",
       "<style scoped>\n",
       "    .dataframe tbody tr th:only-of-type {\n",
       "        vertical-align: middle;\n",
       "    }\n",
       "\n",
       "    .dataframe tbody tr th {\n",
       "        vertical-align: top;\n",
       "    }\n",
       "\n",
       "    .dataframe thead th {\n",
       "        text-align: right;\n",
       "    }\n",
       "</style>\n",
       "<table border=\"1\" class=\"dataframe\">\n",
       "  <thead>\n",
       "    <tr style=\"text-align: right;\">\n",
       "      <th></th>\n",
       "      <th>aNodes</th>\n",
       "      <th>bNodes</th>\n",
       "      <th>aNodeLat</th>\n",
       "      <th>aNodeLon</th>\n",
       "      <th>bNodeLat</th>\n",
       "      <th>bNodeLon</th>\n",
       "      <th>type</th>\n",
       "      <th>name</th>\n",
       "      <th>speed</th>\n",
       "      <th>ref</th>\n",
       "      <th>osmid</th>\n",
       "      <th>oneway</th>\n",
       "    </tr>\n",
       "  </thead>\n",
       "  <tbody>\n",
       "    <tr>\n",
       "      <th>0</th>\n",
       "      <td>62547437</td>\n",
       "      <td>62547439</td>\n",
       "      <td>42.3326578</td>\n",
       "      <td>-83.0620911</td>\n",
       "      <td>42.3330202</td>\n",
       "      <td>-83.0622765</td>\n",
       "      <td>motorway_link</td>\n",
       "      <td>[]</td>\n",
       "      <td>[]</td>\n",
       "      <td>[]</td>\n",
       "      <td>8727497</td>\n",
       "      <td>yes</td>\n",
       "    </tr>\n",
       "    <tr>\n",
       "      <th>1</th>\n",
       "      <td>62547439</td>\n",
       "      <td>62547441</td>\n",
       "      <td>42.3330202</td>\n",
       "      <td>-83.0622765</td>\n",
       "      <td>42.3332980</td>\n",
       "      <td>-83.0624543</td>\n",
       "      <td>motorway_link</td>\n",
       "      <td>[]</td>\n",
       "      <td>[]</td>\n",
       "      <td>[]</td>\n",
       "      <td>8727497</td>\n",
       "      <td>yes</td>\n",
       "    </tr>\n",
       "    <tr>\n",
       "      <th>2</th>\n",
       "      <td>62547441</td>\n",
       "      <td>62547447</td>\n",
       "      <td>42.3332980</td>\n",
       "      <td>-83.0624543</td>\n",
       "      <td>42.3334178</td>\n",
       "      <td>-83.0625246</td>\n",
       "      <td>motorway_link</td>\n",
       "      <td>[]</td>\n",
       "      <td>[]</td>\n",
       "      <td>[]</td>\n",
       "      <td>8727497</td>\n",
       "      <td>yes</td>\n",
       "    </tr>\n",
       "    <tr>\n",
       "      <th>3</th>\n",
       "      <td>62574668</td>\n",
       "      <td>62574679</td>\n",
       "      <td>42.3332176</td>\n",
       "      <td>-83.0727618</td>\n",
       "      <td>42.3333486</td>\n",
       "      <td>-83.0721618</td>\n",
       "      <td>motorway_link</td>\n",
       "      <td>[]</td>\n",
       "      <td>[]</td>\n",
       "      <td>[]</td>\n",
       "      <td>8727643</td>\n",
       "      <td>yes</td>\n",
       "    </tr>\n",
       "    <tr>\n",
       "      <th>4</th>\n",
       "      <td>62574679</td>\n",
       "      <td>62574682</td>\n",
       "      <td>42.3333486</td>\n",
       "      <td>-83.0721618</td>\n",
       "      <td>42.3333736</td>\n",
       "      <td>-83.0720108</td>\n",
       "      <td>motorway_link</td>\n",
       "      <td>[]</td>\n",
       "      <td>[]</td>\n",
       "      <td>[]</td>\n",
       "      <td>8727643</td>\n",
       "      <td>yes</td>\n",
       "    </tr>\n",
       "  </tbody>\n",
       "</table>\n",
       "</div>"
      ],
      "text/plain": [
       "     aNodes    bNodes    aNodeLat     aNodeLon    bNodeLat     bNodeLon  \\\n",
       "0  62547437  62547439  42.3326578  -83.0620911  42.3330202  -83.0622765   \n",
       "1  62547439  62547441  42.3330202  -83.0622765  42.3332980  -83.0624543   \n",
       "2  62547441  62547447  42.3332980  -83.0624543  42.3334178  -83.0625246   \n",
       "3  62574668  62574679  42.3332176  -83.0727618  42.3333486  -83.0721618   \n",
       "4  62574679  62574682  42.3333486  -83.0721618  42.3333736  -83.0720108   \n",
       "\n",
       "            type name speed ref    osmid oneway  \n",
       "0  motorway_link   []    []  []  8727497    yes  \n",
       "1  motorway_link   []    []  []  8727497    yes  \n",
       "2  motorway_link   []    []  []  8727497    yes  \n",
       "3  motorway_link   []    []  []  8727643    yes  \n",
       "4  motorway_link   []    []  []  8727643    yes  "
      ]
     },
     "execution_count": 8,
     "metadata": {},
     "output_type": "execute_result"
    }
   ],
   "source": [
    "network.head()"
   ]
  },
  {
   "cell_type": "markdown",
   "metadata": {},
   "source": [
    "# Find subset of links where at least one node is in the simulation area"
   ]
  },
  {
   "cell_type": "code",
   "execution_count": 9,
   "metadata": {},
   "outputs": [
    {
     "name": "stdout",
     "output_type": "stream",
     "text": [
      "13547\n"
     ]
    },
    {
     "data": {
      "text/plain": [
       "8568"
      ]
     },
     "execution_count": 9,
     "metadata": {},
     "output_type": "execute_result"
    }
   ],
   "source": [
    "print(len(LatLongDict))\n",
    "sim_area_nodes=set()\n",
    "# check if each node in any sim area, if so add to list\n",
    "for node_num in LatLongDict:\n",
    "    for feat in sim_area['features']:\n",
    "        if shape(feat['geometry']).contains(Point(\n",
    "            float(LatLongDict[node_num][1]), \n",
    "            float(LatLongDict[node_num][0]))):\n",
    "            sim_area_nodes.add(node_num)\n",
    "len(sim_area_nodes)"
   ]
  },
  {
   "cell_type": "code",
   "execution_count": 10,
   "metadata": {},
   "outputs": [
    {
     "name": "stdout",
     "output_type": "stream",
     "text": [
      "7048\n",
      "4025\n"
     ]
    }
   ],
   "source": [
    "print(len(network))\n",
    "network=network.loc[((network['aNodes'].isin(sim_area_nodes))|\n",
    "    (network['bNodes'].isin(sim_area_nodes)))]\n",
    "print(len(network))"
   ]
  },
  {
   "cell_type": "markdown",
   "metadata": {},
   "source": [
    "# Plot network inside sim area only"
   ]
  },
  {
   "cell_type": "code",
   "execution_count": 11,
   "metadata": {},
   "outputs": [
    {
     "data": {
      "application/vnd.jupyter.widget-view+json": {
       "model_id": "0312342926f043859090d9ce553fbed4",
       "version_major": 2,
       "version_minor": 0
      },
      "text/plain": [
       "Map(basemap={'url': 'https://{s}.tile.openstreetmap.org/{z}/{x}/{y}.png', 'max_zoom': 19, 'attribution': 'Map …"
      ]
     },
     "metadata": {},
     "output_type": "display_data"
    }
   ],
   "source": [
    "polylines=[]\n",
    "m = Map(center = (aNodeLat[0], aNodeLon[0]), zoom =15, layers=[basemap_to_tiles(basemaps.CartoDB.DarkMatter)])\n",
    "lines=[]\n",
    "for ind, row in network.iterrows():\n",
    "    lines.append([[float(row['aNodeLat']), float(row['aNodeLon'])], [float(row['bNodeLat']), float(row['bNodeLon'])]])\n",
    "\n",
    "lineLayer = Polyline(\n",
    "    locations = lines,\n",
    "    weight=1,\n",
    "    opacity=1,\n",
    "    color='white',\n",
    "    fill=False\n",
    ")\n",
    "m.add_layer(lineLayer)\n",
    "m"
   ]
  },
  {
   "cell_type": "code",
   "execution_count": 12,
   "metadata": {},
   "outputs": [
    {
     "data": {
      "text/plain": [
       "{'footway',\n",
       " 'pedestrian',\n",
       " 'primary',\n",
       " 'residential',\n",
       " 'secondary',\n",
       " 'secondary_link',\n",
       " 'service',\n",
       " 'tertiary',\n",
       " 'track',\n",
       " 'unclassified'}"
      ]
     },
     "execution_count": 12,
     "metadata": {},
     "output_type": "execute_result"
    }
   ],
   "source": [
    "edges_types=set(network['type'])\n",
    "edges_types"
   ]
  },
  {
   "cell_type": "code",
   "execution_count": 13,
   "metadata": {},
   "outputs": [],
   "source": [
    "drive_types=[t for t in edges_types if t not in ['footway', 'path', 'steps', 'pedestrian', 'track']]\n",
    "cycle_types=[t for t in edges_types if t not in [ 'steps']]\n",
    "pt_types=edges_types\n",
    "walk_types=edges_types"
   ]
  },
  {
   "cell_type": "markdown",
   "metadata": {},
   "source": [
    "Create networks for each mode"
   ]
  },
  {
   "cell_type": "code",
   "execution_count": 14,
   "metadata": {},
   "outputs": [],
   "source": [
    "drive_edges=network.loc[network['type'].isin(drive_types)]\n",
    "walk_edges=network.loc[network['type'].isin(walk_types)]\n",
    "pt_edges=network.loc[network['type'].isin(pt_types)]\n",
    "cycle_edges=network.loc[network['type'].isin(cycle_types)]"
   ]
  },
  {
   "cell_type": "code",
   "execution_count": 15,
   "metadata": {},
   "outputs": [
    {
     "data": {
      "text/plain": [
       "1945"
      ]
     },
     "execution_count": 15,
     "metadata": {},
     "output_type": "execute_result"
    }
   ],
   "source": [
    "len(drive_edges)"
   ]
  },
  {
   "cell_type": "markdown",
   "metadata": {},
   "source": [
    "Create Geojson"
   ]
  },
  {
   "cell_type": "code",
   "execution_count": 16,
   "metadata": {},
   "outputs": [],
   "source": [
    "SPEEDS_MET_S={'driving':30/3.6,\n",
    "        'cycling':15/3.6,\n",
    "        'walking':4.8/3.6,\n",
    "        'pt': 20/3.6}\n",
    "\n",
    "def df_to_geojson(edges_df, net_type):\n",
    "    features=[]\n",
    "    for e_ind, e_row in edges_df.iterrows():\n",
    "        from_node=e_row['aNodes']\n",
    "        to_node=e_row['bNodes']\n",
    "        edge_type=net_type\n",
    "        coordinates=[[float(LatLongDict[from_node][1]), float(LatLongDict[from_node][0])],\n",
    "                     [float(LatLongDict[to_node][1]), float(LatLongDict[to_node][0])]]\n",
    "        features.append({\"type\": \"Feature\",\n",
    "                         \"properties\": {'edge_type': edge_type},\n",
    "                         'geometry': {\n",
    "                                 \"type\": \"LineString\",\n",
    "                                 'coordinates':coordinates },\n",
    "                         })\n",
    "    return {\"type\": \"FeatureCollection\",\n",
    "            \"crs\": { \"type\": \"name\", \"properties\": { \"name\": \"epsg:4326\" } },\n",
    "            \"features\": features}"
   ]
  },
  {
   "cell_type": "code",
   "execution_count": 17,
   "metadata": {},
   "outputs": [],
   "source": [
    "drive_net_geo=df_to_geojson(drive_edges, 'driving')\n",
    "cycle_net_geo=df_to_geojson(drive_edges, 'cycling')\n",
    "walk_net_geo=df_to_geojson(drive_edges, 'walking')\n",
    "pt_net_geo=df_to_geojson(drive_edges, 'pt')"
   ]
  },
  {
   "cell_type": "code",
   "execution_count": 18,
   "metadata": {},
   "outputs": [],
   "source": [
    "json.dump(drive_net_geo, open(SIM_NETWORK_PATH_ROOT+'driving_net.geojson', 'w'))\n",
    "json.dump(walk_net_geo, open(SIM_NETWORK_PATH_ROOT+'walking_net.geojson', 'w'))\n",
    "json.dump(pt_net_geo, open(SIM_NETWORK_PATH_ROOT+'pt_net.geojson', 'w'))\n",
    "json.dump(cycle_net_geo, open(SIM_NETWORK_PATH_ROOT+'cycling_net.geojson', 'w'))"
   ]
  },
  {
   "cell_type": "code",
   "execution_count": null,
   "metadata": {},
   "outputs": [],
   "source": []
  }
 ],
 "metadata": {
  "anaconda-cloud": {},
  "kernelspec": {
   "display_name": "Python 3",
   "language": "python",
   "name": "python3"
  },
  "language_info": {
   "codemirror_mode": {
    "name": "ipython",
    "version": 3
   },
   "file_extension": ".py",
   "mimetype": "text/x-python",
   "name": "python",
   "nbconvert_exporter": "python",
   "pygments_lexer": "ipython3",
   "version": "3.7.3"
  }
 },
 "nbformat": 4,
 "nbformat_minor": 2
}
