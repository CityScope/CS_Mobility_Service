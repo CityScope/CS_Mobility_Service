{
 "cells": [
  {
   "cell_type": "code",
   "execution_count": 203,
   "metadata": {
    "collapsed": true
   },
   "outputs": [],
   "source": [
    "import pandas as pd\n",
    "import json\n",
    "from shapely.geometry import Point, shape"
   ]
  },
  {
   "cell_type": "code",
   "execution_count": 204,
   "metadata": {
    "collapsed": true
   },
   "outputs": [],
   "source": [
    "edges=pd.read_csv('./cities/Detroit/clean/comb_network_sim_edges.csv')\n",
    "nodes=pd.read_csv('./cities/Detroit/clean/comb_network_sim_nodes.csv')"
   ]
  },
  {
   "cell_type": "code",
   "execution_count": 205,
   "metadata": {
    "collapsed": true
   },
   "outputs": [],
   "source": [
    "FLOYD_PREDECESSOR_PATH='./cities/Detroit/clean/fw_result_pt.json'\n",
    "INT_NET_DF_FLOYD_PATH='./cities/Detroit/clean/sim_net_df_floyd_pt.csv'\n",
    "INT_NET_COORDINATES_PATH='./cities/Detroit/clean/sim_net_node_coords_pt.json'\n",
    "SIM_AREA_PATH='./cities/Detroit/clean/table_area.geojson'"
   ]
  },
  {
   "cell_type": "code",
   "execution_count": 206,
   "metadata": {
    "collapsed": true
   },
   "outputs": [],
   "source": [
    "SIM_AREA_PATH='./cities/Detroit/clean/table_area.geojson'\n",
    "\n",
    "sim_area=json.load(open(SIM_AREA_PATH))\n",
    "\n",
    "full_area=[shape(f['geometry']) for f in sim_area['features']]\n",
    "bounds=[shp.bounds for shp in full_area]\n",
    "boundsAll=[min([b[0] for b in bounds]), #W\n",
    "               min([b[1] for b in bounds]), #S\n",
    "               max([b[2] for b in bounds]), #E\n",
    "               max([b[3] for b in bounds])] #N"
   ]
  },
  {
   "cell_type": "code",
   "execution_count": 207,
   "metadata": {},
   "outputs": [
    {
     "data": {
      "text/html": [
       "<div>\n",
       "<style scoped>\n",
       "    .dataframe tbody tr th:only-of-type {\n",
       "        vertical-align: middle;\n",
       "    }\n",
       "\n",
       "    .dataframe tbody tr th {\n",
       "        vertical-align: top;\n",
       "    }\n",
       "\n",
       "    .dataframe thead th {\n",
       "        text-align: right;\n",
       "    }\n",
       "</style>\n",
       "<table border=\"1\" class=\"dataframe\">\n",
       "  <thead>\n",
       "    <tr style=\"text-align: right;\">\n",
       "      <th></th>\n",
       "      <th>Unnamed: 0</th>\n",
       "      <th>access</th>\n",
       "      <th>area</th>\n",
       "      <th>bridge</th>\n",
       "      <th>distance</th>\n",
       "      <th>from</th>\n",
       "      <th>hgv</th>\n",
       "      <th>highway</th>\n",
       "      <th>edge_id</th>\n",
       "      <th>lanes</th>\n",
       "      <th>...</th>\n",
       "      <th>service</th>\n",
       "      <th>to</th>\n",
       "      <th>toll</th>\n",
       "      <th>tunnel</th>\n",
       "      <th>unique_agency_id</th>\n",
       "      <th>unique_route_id</th>\n",
       "      <th>unique_trip_id</th>\n",
       "      <th>weight</th>\n",
       "      <th>from_int</th>\n",
       "      <th>to_int</th>\n",
       "    </tr>\n",
       "  </thead>\n",
       "  <tbody>\n",
       "    <tr>\n",
       "      <th>0</th>\n",
       "      <td>0</td>\n",
       "      <td>NaN</td>\n",
       "      <td>NaN</td>\n",
       "      <td>NaN</td>\n",
       "      <td>NaN</td>\n",
       "      <td>2010_detroit_department_of_transportation</td>\n",
       "      <td>NaN</td>\n",
       "      <td>NaN</td>\n",
       "      <td>155809020_detroit_department_of_transportation_1</td>\n",
       "      <td>NaN</td>\n",
       "      <td>...</td>\n",
       "      <td>NaN</td>\n",
       "      <td>3545_detroit_department_of_transportation</td>\n",
       "      <td>NaN</td>\n",
       "      <td>NaN</td>\n",
       "      <td>detroit_department_of_transportation</td>\n",
       "      <td>3_detroit_department_of_transportation</td>\n",
       "      <td>155809020_detroit_department_of_transportation</td>\n",
       "      <td>0.416667</td>\n",
       "      <td>1670</td>\n",
       "      <td>3017</td>\n",
       "    </tr>\n",
       "    <tr>\n",
       "      <th>1</th>\n",
       "      <td>1</td>\n",
       "      <td>NaN</td>\n",
       "      <td>NaN</td>\n",
       "      <td>NaN</td>\n",
       "      <td>NaN</td>\n",
       "      <td>3545_detroit_department_of_transportation</td>\n",
       "      <td>NaN</td>\n",
       "      <td>NaN</td>\n",
       "      <td>155809020_detroit_department_of_transportation_2</td>\n",
       "      <td>NaN</td>\n",
       "      <td>...</td>\n",
       "      <td>NaN</td>\n",
       "      <td>3547_detroit_department_of_transportation</td>\n",
       "      <td>NaN</td>\n",
       "      <td>NaN</td>\n",
       "      <td>detroit_department_of_transportation</td>\n",
       "      <td>3_detroit_department_of_transportation</td>\n",
       "      <td>155809020_detroit_department_of_transportation</td>\n",
       "      <td>0.750000</td>\n",
       "      <td>3017</td>\n",
       "      <td>3019</td>\n",
       "    </tr>\n",
       "    <tr>\n",
       "      <th>2</th>\n",
       "      <td>2</td>\n",
       "      <td>NaN</td>\n",
       "      <td>NaN</td>\n",
       "      <td>NaN</td>\n",
       "      <td>NaN</td>\n",
       "      <td>3547_detroit_department_of_transportation</td>\n",
       "      <td>NaN</td>\n",
       "      <td>NaN</td>\n",
       "      <td>155809020_detroit_department_of_transportation_3</td>\n",
       "      <td>NaN</td>\n",
       "      <td>...</td>\n",
       "      <td>NaN</td>\n",
       "      <td>3551_detroit_department_of_transportation</td>\n",
       "      <td>NaN</td>\n",
       "      <td>NaN</td>\n",
       "      <td>detroit_department_of_transportation</td>\n",
       "      <td>3_detroit_department_of_transportation</td>\n",
       "      <td>155809020_detroit_department_of_transportation</td>\n",
       "      <td>0.800000</td>\n",
       "      <td>3019</td>\n",
       "      <td>3023</td>\n",
       "    </tr>\n",
       "    <tr>\n",
       "      <th>3</th>\n",
       "      <td>3</td>\n",
       "      <td>NaN</td>\n",
       "      <td>NaN</td>\n",
       "      <td>NaN</td>\n",
       "      <td>NaN</td>\n",
       "      <td>3551_detroit_department_of_transportation</td>\n",
       "      <td>NaN</td>\n",
       "      <td>NaN</td>\n",
       "      <td>155809020_detroit_department_of_transportation_4</td>\n",
       "      <td>NaN</td>\n",
       "      <td>...</td>\n",
       "      <td>NaN</td>\n",
       "      <td>3548_detroit_department_of_transportation</td>\n",
       "      <td>NaN</td>\n",
       "      <td>NaN</td>\n",
       "      <td>detroit_department_of_transportation</td>\n",
       "      <td>3_detroit_department_of_transportation</td>\n",
       "      <td>155809020_detroit_department_of_transportation</td>\n",
       "      <td>0.700000</td>\n",
       "      <td>3023</td>\n",
       "      <td>3020</td>\n",
       "    </tr>\n",
       "    <tr>\n",
       "      <th>4</th>\n",
       "      <td>4</td>\n",
       "      <td>NaN</td>\n",
       "      <td>NaN</td>\n",
       "      <td>NaN</td>\n",
       "      <td>NaN</td>\n",
       "      <td>3548_detroit_department_of_transportation</td>\n",
       "      <td>NaN</td>\n",
       "      <td>NaN</td>\n",
       "      <td>155809020_detroit_department_of_transportation_5</td>\n",
       "      <td>NaN</td>\n",
       "      <td>...</td>\n",
       "      <td>NaN</td>\n",
       "      <td>3552_detroit_department_of_transportation</td>\n",
       "      <td>NaN</td>\n",
       "      <td>NaN</td>\n",
       "      <td>detroit_department_of_transportation</td>\n",
       "      <td>3_detroit_department_of_transportation</td>\n",
       "      <td>155809020_detroit_department_of_transportation</td>\n",
       "      <td>0.800000</td>\n",
       "      <td>3020</td>\n",
       "      <td>3024</td>\n",
       "    </tr>\n",
       "  </tbody>\n",
       "</table>\n",
       "<p>5 rows × 27 columns</p>\n",
       "</div>"
      ],
      "text/plain": [
       "   Unnamed: 0 access area bridge  distance  \\\n",
       "0           0    NaN  NaN    NaN       NaN   \n",
       "1           1    NaN  NaN    NaN       NaN   \n",
       "2           2    NaN  NaN    NaN       NaN   \n",
       "3           3    NaN  NaN    NaN       NaN   \n",
       "4           4    NaN  NaN    NaN       NaN   \n",
       "\n",
       "                                        from  hgv highway  \\\n",
       "0  2010_detroit_department_of_transportation  NaN     NaN   \n",
       "1  3545_detroit_department_of_transportation  NaN     NaN   \n",
       "2  3547_detroit_department_of_transportation  NaN     NaN   \n",
       "3  3551_detroit_department_of_transportation  NaN     NaN   \n",
       "4  3548_detroit_department_of_transportation  NaN     NaN   \n",
       "\n",
       "                                            edge_id  lanes  ... service  \\\n",
       "0  155809020_detroit_department_of_transportation_1    NaN  ...     NaN   \n",
       "1  155809020_detroit_department_of_transportation_2    NaN  ...     NaN   \n",
       "2  155809020_detroit_department_of_transportation_3    NaN  ...     NaN   \n",
       "3  155809020_detroit_department_of_transportation_4    NaN  ...     NaN   \n",
       "4  155809020_detroit_department_of_transportation_5    NaN  ...     NaN   \n",
       "\n",
       "                                          to toll tunnel  \\\n",
       "0  3545_detroit_department_of_transportation  NaN    NaN   \n",
       "1  3547_detroit_department_of_transportation  NaN    NaN   \n",
       "2  3551_detroit_department_of_transportation  NaN    NaN   \n",
       "3  3548_detroit_department_of_transportation  NaN    NaN   \n",
       "4  3552_detroit_department_of_transportation  NaN    NaN   \n",
       "\n",
       "                       unique_agency_id  \\\n",
       "0  detroit_department_of_transportation   \n",
       "1  detroit_department_of_transportation   \n",
       "2  detroit_department_of_transportation   \n",
       "3  detroit_department_of_transportation   \n",
       "4  detroit_department_of_transportation   \n",
       "\n",
       "                          unique_route_id  \\\n",
       "0  3_detroit_department_of_transportation   \n",
       "1  3_detroit_department_of_transportation   \n",
       "2  3_detroit_department_of_transportation   \n",
       "3  3_detroit_department_of_transportation   \n",
       "4  3_detroit_department_of_transportation   \n",
       "\n",
       "                                   unique_trip_id    weight from_int  to_int  \n",
       "0  155809020_detroit_department_of_transportation  0.416667     1670    3017  \n",
       "1  155809020_detroit_department_of_transportation  0.750000     3017    3019  \n",
       "2  155809020_detroit_department_of_transportation  0.800000     3019    3023  \n",
       "3  155809020_detroit_department_of_transportation  0.700000     3023    3020  \n",
       "4  155809020_detroit_department_of_transportation  0.800000     3020    3024  \n",
       "\n",
       "[5 rows x 27 columns]"
      ]
     },
     "execution_count": 207,
     "metadata": {},
     "output_type": "execute_result"
    }
   ],
   "source": [
    "edges.head()"
   ]
  },
  {
   "cell_type": "code",
   "execution_count": 208,
   "metadata": {},
   "outputs": [
    {
     "data": {
      "text/plain": [
       "Index(['Unnamed: 0', 'access', 'area', 'bridge', 'distance', 'from', 'hgv',\n",
       "       'highway', 'edge_id', 'lanes', 'maxspeed', 'name', 'net_type', 'oneway',\n",
       "       'ref', 'route_type', 'sequence', 'service', 'to', 'toll', 'tunnel',\n",
       "       'unique_agency_id', 'unique_route_id', 'unique_trip_id', 'weight',\n",
       "       'from_int', 'to_int'],\n",
       "      dtype='object')"
      ]
     },
     "execution_count": 208,
     "metadata": {},
     "output_type": "execute_result"
    }
   ],
   "source": [
    "edges.columns"
   ]
  },
  {
   "cell_type": "code",
   "execution_count": 209,
   "metadata": {},
   "outputs": [
    {
     "data": {
      "text/plain": [
       "['residential',\n",
       " 'pedestrian',\n",
       " 'primary_link',\n",
       " 'trunk_link',\n",
       " 'tertiary',\n",
       " 'primary',\n",
       " 'secondary',\n",
       " 'tertiary_link',\n",
       " 'living_street',\n",
       " 'secondary_link']"
      ]
     },
     "execution_count": 209,
     "metadata": {},
     "output_type": "execute_result"
    }
   ],
   "source": [
    "[x for x in set(edges['highway']) if x==x]"
   ]
  },
  {
   "cell_type": "code",
   "execution_count": 210,
   "metadata": {
    "collapsed": true
   },
   "outputs": [],
   "source": [
    "all_node_ids=set(list(edges['from_int'])+list(edges['to_int']))\n",
    "LatLongDict={}\n",
    "for node in all_node_ids:\n",
    "    LatLongDict[node]=[nodes.loc[nodes['id_int']==node, 'y'].values[0], nodes.loc[nodes['id_int']==node, 'x'].values[0]]"
   ]
  },
  {
   "cell_type": "code",
   "execution_count": 211,
   "metadata": {},
   "outputs": [
    {
     "data": {
      "text/plain": [
       "[42.365078, -83.130205]"
      ]
     },
     "execution_count": 211,
     "metadata": {},
     "output_type": "execute_result"
    }
   ],
   "source": [
    "LatLongDict[1670]"
   ]
  },
  {
   "cell_type": "code",
   "execution_count": 212,
   "metadata": {},
   "outputs": [
    {
     "data": {
      "text/html": [
       "<div>\n",
       "<style scoped>\n",
       "    .dataframe tbody tr th:only-of-type {\n",
       "        vertical-align: middle;\n",
       "    }\n",
       "\n",
       "    .dataframe tbody tr th {\n",
       "        vertical-align: top;\n",
       "    }\n",
       "\n",
       "    .dataframe thead th {\n",
       "        text-align: right;\n",
       "    }\n",
       "</style>\n",
       "<table border=\"1\" class=\"dataframe\">\n",
       "  <thead>\n",
       "    <tr style=\"text-align: right;\">\n",
       "      <th></th>\n",
       "      <th>aNodes</th>\n",
       "      <th>bNodes</th>\n",
       "      <th>aNodeLat</th>\n",
       "      <th>aNodeLon</th>\n",
       "      <th>bNodeLat</th>\n",
       "      <th>bNodeLon</th>\n",
       "      <th>weight</th>\n",
       "      <th>distance</th>\n",
       "      <th>net_type</th>\n",
       "    </tr>\n",
       "  </thead>\n",
       "  <tbody>\n",
       "    <tr>\n",
       "      <th>0</th>\n",
       "      <td>1670</td>\n",
       "      <td>3017</td>\n",
       "      <td>42.365078</td>\n",
       "      <td>-83.130205</td>\n",
       "      <td>42.364285</td>\n",
       "      <td>-83.128295</td>\n",
       "      <td>0.416667</td>\n",
       "      <td>NaN</td>\n",
       "      <td>transit</td>\n",
       "    </tr>\n",
       "    <tr>\n",
       "      <th>1</th>\n",
       "      <td>3017</td>\n",
       "      <td>3019</td>\n",
       "      <td>42.364285</td>\n",
       "      <td>-83.128295</td>\n",
       "      <td>42.362877</td>\n",
       "      <td>-83.124738</td>\n",
       "      <td>0.750000</td>\n",
       "      <td>NaN</td>\n",
       "      <td>transit</td>\n",
       "    </tr>\n",
       "    <tr>\n",
       "      <th>2</th>\n",
       "      <td>3019</td>\n",
       "      <td>3023</td>\n",
       "      <td>42.362877</td>\n",
       "      <td>-83.124738</td>\n",
       "      <td>42.361449</td>\n",
       "      <td>-83.121102</td>\n",
       "      <td>0.800000</td>\n",
       "      <td>NaN</td>\n",
       "      <td>transit</td>\n",
       "    </tr>\n",
       "    <tr>\n",
       "      <th>3</th>\n",
       "      <td>3023</td>\n",
       "      <td>3020</td>\n",
       "      <td>42.361449</td>\n",
       "      <td>-83.121102</td>\n",
       "      <td>42.360092</td>\n",
       "      <td>-83.117825</td>\n",
       "      <td>0.700000</td>\n",
       "      <td>NaN</td>\n",
       "      <td>transit</td>\n",
       "    </tr>\n",
       "    <tr>\n",
       "      <th>4</th>\n",
       "      <td>3020</td>\n",
       "      <td>3024</td>\n",
       "      <td>42.360092</td>\n",
       "      <td>-83.117825</td>\n",
       "      <td>42.358725</td>\n",
       "      <td>-83.114490</td>\n",
       "      <td>0.800000</td>\n",
       "      <td>NaN</td>\n",
       "      <td>transit</td>\n",
       "    </tr>\n",
       "  </tbody>\n",
       "</table>\n",
       "</div>"
      ],
      "text/plain": [
       "   aNodes  bNodes   aNodeLat   aNodeLon   bNodeLat   bNodeLon    weight  \\\n",
       "0    1670    3017  42.365078 -83.130205  42.364285 -83.128295  0.416667   \n",
       "1    3017    3019  42.364285 -83.128295  42.362877 -83.124738  0.750000   \n",
       "2    3019    3023  42.362877 -83.124738  42.361449 -83.121102  0.800000   \n",
       "3    3023    3020  42.361449 -83.121102  42.360092 -83.117825  0.700000   \n",
       "4    3020    3024  42.360092 -83.117825  42.358725 -83.114490  0.800000   \n",
       "\n",
       "   distance net_type  \n",
       "0       NaN  transit  \n",
       "1       NaN  transit  \n",
       "2       NaN  transit  \n",
       "3       NaN  transit  \n",
       "4       NaN  transit  "
      ]
     },
     "execution_count": 212,
     "metadata": {},
     "output_type": "execute_result"
    }
   ],
   "source": [
    "network=pd.DataFrame()\n",
    "network['aNodes']=edges['from_int']\n",
    "network['bNodes']=edges['to_int']\n",
    "network['aNodeLat']=network.apply(lambda row: LatLongDict[row['aNodes']][0], axis=1)\n",
    "network['aNodeLon']=network.apply(lambda row: LatLongDict[row['aNodes']][1], axis=1)\n",
    "network['bNodeLat']=network.apply(lambda row: LatLongDict[row['bNodes']][0], axis=1)\n",
    "network['bNodeLon']=network.apply(lambda row: LatLongDict[row['bNodes']][1], axis=1)  \n",
    "network['weight']=edges['weight']\n",
    "network['distance']=edges['distance']\n",
    "network['net_type']=edges['net_type']\n",
    "    \n",
    "network.head()"
   ]
  },
  {
   "cell_type": "code",
   "execution_count": 213,
   "metadata": {
    "collapsed": true
   },
   "outputs": [],
   "source": [
    "%matplotlib inline"
   ]
  },
  {
   "cell_type": "code",
   "execution_count": 214,
   "metadata": {
    "collapsed": true
   },
   "outputs": [],
   "source": [
    "from ipyleaflet import Map, Polyline, basemaps, basemap_to_tiles, Circle, Marker"
   ]
  },
  {
   "cell_type": "code",
   "execution_count": 215,
   "metadata": {
    "collapsed": true
   },
   "outputs": [],
   "source": [
    "center= [network.iloc[0]['aNodeLat'], network.iloc[0]['aNodeLon']]"
   ]
  },
  {
   "cell_type": "code",
   "execution_count": 216,
   "metadata": {},
   "outputs": [
    {
     "data": {
      "application/vnd.jupyter.widget-view+json": {
       "model_id": "8c5a6cf09ede428289551b1c45424ed3",
       "version_major": 2,
       "version_minor": 0
      },
      "text/plain": [
       "Map(basemap={'url': 'https://{s}.tile.openstreetmap.org/{z}/{x}/{y}.png', 'max_zoom': 19, 'attribution': 'Map …"
      ]
     },
     "metadata": {},
     "output_type": "display_data"
    }
   ],
   "source": [
    "polylines=[]\n",
    "m = Map(center = center, zoom =14, layers=[basemap_to_tiles(basemaps.CartoDB.DarkMatter)])\n",
    "lines=[]\n",
    "for ind, row in network.iterrows():\n",
    "    lines.append([[float(row['aNodeLat']), float(row['aNodeLon'])], [float(row['bNodeLat']), float(row['bNodeLon'])]])\n",
    "\n",
    "lineLayer = Polyline(\n",
    "    locations = lines,\n",
    "    weight=1,\n",
    "    opacity=1,\n",
    "    color='white',\n",
    "    fill=False\n",
    ")\n",
    "m.add_layer(lineLayer)\n",
    "m"
   ]
  },
  {
   "cell_type": "markdown",
   "metadata": {},
   "source": [
    "# Find subset of links where at least one node is in the simulation area"
   ]
  },
  {
   "cell_type": "code",
   "execution_count": 217,
   "metadata": {},
   "outputs": [
    {
     "name": "stdout",
     "output_type": "stream",
     "text": [
      "6744\n"
     ]
    },
    {
     "data": {
      "text/plain": [
       "1227"
      ]
     },
     "execution_count": 217,
     "metadata": {},
     "output_type": "execute_result"
    }
   ],
   "source": [
    "print(len(LatLongDict))\n",
    "sim_area_nodes=set()\n",
    "# check if each node in any sim area, if so add to list\n",
    "for node_num in LatLongDict:\n",
    "    for feat in sim_area['features']:\n",
    "        if shape(feat['geometry']).contains(Point(\n",
    "            float(LatLongDict[node_num][1]), \n",
    "            float(LatLongDict[node_num][0]))):\n",
    "            sim_area_nodes.add(node_num)\n",
    "len(sim_area_nodes)"
   ]
  },
  {
   "cell_type": "code",
   "execution_count": 218,
   "metadata": {},
   "outputs": [
    {
     "name": "stdout",
     "output_type": "stream",
     "text": [
      "36835\n",
      "3245\n"
     ]
    }
   ],
   "source": [
    "print(len(network))\n",
    "network=network.loc[((network['aNodes'].isin(sim_area_nodes))|\n",
    "    (network['bNodes'].isin(sim_area_nodes)))]\n",
    "print(len(network))"
   ]
  },
  {
   "cell_type": "code",
   "execution_count": 219,
   "metadata": {},
   "outputs": [
    {
     "data": {
      "application/vnd.jupyter.widget-view+json": {
       "model_id": "b74df8199a2e4b8ab93e1c567601d6d2",
       "version_major": 2,
       "version_minor": 0
      },
      "text/plain": [
       "Map(basemap={'url': 'https://{s}.tile.openstreetmap.org/{z}/{x}/{y}.png', 'max_zoom': 19, 'attribution': 'Map …"
      ]
     },
     "metadata": {},
     "output_type": "display_data"
    }
   ],
   "source": [
    "polylines=[]\n",
    "m = Map(center = center, zoom =15, layers=[basemap_to_tiles(basemaps.OpenStreetMap.Mapnik)])\n",
    "lines=[]\n",
    "for ind, row in network.iterrows():\n",
    "    lines.append([[float(row['aNodeLat']), float(row['aNodeLon'])], [float(row['bNodeLat']), float(row['bNodeLon'])]])\n",
    "\n",
    "lineLayer = Polyline(\n",
    "    locations = lines,\n",
    "    weight=1,\n",
    "    opacity=1,\n",
    "    color='red',\n",
    "    fill=False\n",
    ")\n",
    "m.add_layer(lineLayer)\n",
    "m"
   ]
  },
  {
   "cell_type": "code",
   "execution_count": 220,
   "metadata": {
    "collapsed": true
   },
   "outputs": [],
   "source": [
    "# set(network['net_type'])"
   ]
  },
  {
   "cell_type": "code",
   "execution_count": 221,
   "metadata": {},
   "outputs": [
    {
     "name": "stdout",
     "output_type": "stream",
     "text": [
      "3245\n"
     ]
    }
   ],
   "source": [
    "print(len(network))\n",
    "copy_edges=network.copy()\n",
    "for i in range(len(copy_edges)):\n",
    "    temp_link=copy_edges.iloc[i].copy()\n",
    "    temp_from_node = temp_link['aNodes']\n",
    "    temp_from_node_lat = temp_link['aNodeLat']\n",
    "    temp_from_node_lon = temp_link['aNodeLon']\n",
    "    temp_link['aNodes']=temp_link['bNodes']\n",
    "    temp_link['aNodeLat']=temp_link['bNodeLat']\n",
    "    temp_link['aNodeLon']=temp_link['bNodeLon']\n",
    "    temp_link['bNodes']=temp_from_node\n",
    "    temp_link['bNodeLat']=temp_from_node_lat\n",
    "    temp_link['bNodeLon']=temp_from_node_lon\n",
    "    network.loc[len(network)]=temp_link.copy()"
   ]
  },
  {
   "cell_type": "code",
   "execution_count": 222,
   "metadata": {},
   "outputs": [
    {
     "name": "stdout",
     "output_type": "stream",
     "text": [
      "5235\n"
     ]
    }
   ],
   "source": [
    "print(len(network))"
   ]
  },
  {
   "cell_type": "code",
   "execution_count": 145,
   "metadata": {
    "collapsed": true
   },
   "outputs": [],
   "source": [
    "import networkx as nx\n",
    "G=nx.Graph()\n",
    "for i, row in network.iterrows():\n",
    "    G.add_edge(int(row['aNodes']), int(row['bNodes']), \n",
    "               weight=row['weight'])"
   ]
  },
  {
   "cell_type": "code",
   "execution_count": 146,
   "metadata": {},
   "outputs": [
    {
     "data": {
      "text/plain": [
       "1528"
      ]
     },
     "execution_count": 146,
     "metadata": {},
     "output_type": "execute_result"
    }
   ],
   "source": [
    "len(G.edges)"
   ]
  },
  {
   "cell_type": "code",
   "execution_count": 179,
   "metadata": {},
   "outputs": [
    {
     "data": {
      "application/vnd.jupyter.widget-view+json": {
       "model_id": "da2b0524550440f4bf31b9f6aa77c7f5",
       "version_major": 2,
       "version_minor": 0
      },
      "text/plain": [
       "Map(basemap={'url': 'https://{s}.tile.openstreetmap.org/{z}/{x}/{y}.png', 'max_zoom': 19, 'attribution': 'Map …"
      ]
     },
     "metadata": {},
     "output_type": "display_data"
    }
   ],
   "source": [
    "polylines=[]\n",
    "m = Map(center = center, zoom =15, layers=[basemap_to_tiles(basemaps.OpenStreetMap.Mapnik)])\n",
    "lines=[]\n",
    "for edge in G.edges:\n",
    "    a_node, b_node=edge\n",
    "    a_node_lon, a_node_lat=node_to_coordinates[a_node]\n",
    "    b_node_lon, b_node_lat=node_to_coordinates[b_node]\n",
    "    lines.append([[float(a_node_lat), float(a_node_lon)], [float(b_node_lat), float(b_node_lon)]])\n",
    "\n",
    "lineLayer = Polyline(\n",
    "    locations = lines,\n",
    "    weight=1,\n",
    "    opacity=1,\n",
    "    color='red',\n",
    "    fill=False\n",
    ")\n",
    "m.add_layer(lineLayer)\n",
    "m"
   ]
  },
  {
   "cell_type": "code",
   "execution_count": 147,
   "metadata": {
    "collapsed": true
   },
   "outputs": [],
   "source": [
    "fw_result=nx.floyd_warshall_predecessor_and_distance(G, weight='weight')"
   ]
  },
  {
   "cell_type": "markdown",
   "metadata": {},
   "source": [
    "# Test the results"
   ]
  },
  {
   "cell_type": "code",
   "execution_count": 223,
   "metadata": {
    "collapsed": true
   },
   "outputs": [],
   "source": [
    "nodes_to_link_attributes={}\n",
    "for ind, row in network.iterrows():\n",
    "    nodes_to_link_attributes['{}_{}'.format(row['aNodes'], row['bNodes'])]={\n",
    "        'weight': row['weight'],\n",
    "        'distance': row['distance'],\n",
    "        'from_coord': [float(row['aNodeLon']), float(row['aNodeLat'])],\n",
    "        'to_coord': [float(row['bNodeLon']), float(row['bNodeLat'])]\n",
    "    }"
   ]
  },
  {
   "cell_type": "code",
   "execution_count": 149,
   "metadata": {
    "collapsed": true
   },
   "outputs": [],
   "source": [
    "def get_node_path_from_fw(all_pred, from_node, to_node):\n",
    "    if from_node==to_node:\n",
    "        return []\n",
    "    pred=to_node\n",
    "    path=[pred]\n",
    "    while not pred==from_node:\n",
    "        pred=all_pred[from_node][pred]\n",
    "        path.insert(0,pred)\n",
    "    return path\n",
    "        \n",
    "def get_path_coords_distances(drive_edges, path):\n",
    "    coords, distances =[], []\n",
    "    for node_ind in range(len(path)-1):\n",
    "        from_node=path[node_ind]\n",
    "        to_node=path[node_ind+1]\n",
    "        link_attributes=nodes_to_link_attributes['{}_{}'.format(from_node, to_node)]\n",
    "        distances+=[link_attributes['distance']]\n",
    "        coords+=[link_attributes['from_coord']]\n",
    "    coords+= [link_attributes['to_coord']]\n",
    "    # add the final coordinate of the very last segment\n",
    "    return coords, distances"
   ]
  },
  {
   "cell_type": "code",
   "execution_count": 224,
   "metadata": {},
   "outputs": [
    {
     "name": "stdout",
     "output_type": "stream",
     "text": [
      "519\n",
      "[[-83.069443, 42.328008]]\n",
      "4161\n",
      "[[-83.069443, 42.328008], [-83.065484, 42.329281]]\n",
      "[[-83.069443, 42.328008], [-83.065484, 42.329281], [-83.06656, 42.330639]]\n"
     ]
    }
   ],
   "source": [
    "coords, distances =[], []\n",
    "for node_ind in range(len(path)-1):\n",
    "    from_node=path[node_ind]\n",
    "    print(from_node)\n",
    "    to_node=path[node_ind+1]\n",
    "    link_attributes=nodes_to_link_attributes['{}_{}'.format(from_node, to_node)]\n",
    "    distances+=[link_attributes['distance']]\n",
    "    coords+=[link_attributes['from_coord']]\n",
    "    print(coords)\n",
    "coords+= [link_attributes['to_coord']]\n",
    "print(coords)"
   ]
  },
  {
   "cell_type": "code",
   "execution_count": 196,
   "metadata": {
    "collapsed": true
   },
   "outputs": [],
   "source": [
    "path=get_node_path_from_fw(fw_result[0], 519, 3367)"
   ]
  },
  {
   "cell_type": "code",
   "execution_count": 228,
   "metadata": {
    "collapsed": true
   },
   "outputs": [],
   "source": [
    "coords, distances=get_path_coords_distances(network, path)"
   ]
  },
  {
   "cell_type": "code",
   "execution_count": 229,
   "metadata": {},
   "outputs": [
    {
     "data": {
      "text/plain": [
       "[[-83.069443, 42.328008], [-83.065484, 42.329281], [-83.06656, 42.330639]]"
      ]
     },
     "execution_count": 229,
     "metadata": {},
     "output_type": "execute_result"
    }
   ],
   "source": [
    "coords"
   ]
  },
  {
   "cell_type": "code",
   "execution_count": 230,
   "metadata": {},
   "outputs": [
    {
     "data": {
      "application/vnd.jupyter.widget-view+json": {
       "model_id": "785be9d1c6bc485fa5777a5193de6561",
       "version_major": 2,
       "version_minor": 0
      },
      "text/plain": [
       "Map(basemap={'url': 'https://{s}.tile.openstreetmap.org/{z}/{x}/{y}.png', 'max_zoom': 19, 'attribution': 'Map …"
      ]
     },
     "metadata": {},
     "output_type": "display_data"
    }
   ],
   "source": [
    "polylines=[]\n",
    "m = Map(center = center, zoom =14, layers=[basemap_to_tiles(basemaps.CartoDB.DarkMatter)])\n",
    "lines=[]\n",
    "for ic in range(len(coords)-1):\n",
    "    lines.append([[float(coords[ic][1]), float(coords[ic][0])], [float(coords[ic+1][1]), float(coords[ic+1][0])]])\n",
    "\n",
    "lineLayer = Polyline(\n",
    "    locations = lines,\n",
    "    weight=1,\n",
    "    opacity=1,\n",
    "    color='white',\n",
    "    fill=False\n",
    ")\n",
    "m.add_layer(lineLayer)\n",
    "m"
   ]
  },
  {
   "cell_type": "code",
   "execution_count": 163,
   "metadata": {
    "collapsed": true
   },
   "outputs": [],
   "source": [
    "all_nodes=set(list(network['aNodes'])+list(network['bNodes']))\n",
    "node_to_coordinates={}\n",
    "for node in LatLongDict:\n",
    "    if node in all_nodes:\n",
    "        node_to_coordinates[node]=[float(LatLongDict[node][1]), float(LatLongDict[node][0])]"
   ]
  },
  {
   "cell_type": "code",
   "execution_count": 231,
   "metadata": {
    "collapsed": true
   },
   "outputs": [],
   "source": [
    "def get_activity_type(row):\n",
    "    if row['net_type']=='transit':\n",
    "        return 'pt'\n",
    "    else:\n",
    "        return 'walking'\n",
    "network['activity']=network.apply(lambda row: get_activity_type(row), axis=1)"
   ]
  },
  {
   "cell_type": "code",
   "execution_count": 232,
   "metadata": {
    "collapsed": true
   },
   "outputs": [],
   "source": [
    "network['minutes']=network['weight']"
   ]
  },
  {
   "cell_type": "code",
   "execution_count": null,
   "metadata": {
    "collapsed": true
   },
   "outputs": [],
   "source": [
    "from transport_network import dict_to_gzip"
   ]
  },
  {
   "cell_type": "code",
   "execution_count": 235,
   "metadata": {
    "collapsed": true
   },
   "outputs": [],
   "source": [
    "# json.dump(fw_result[0], open(FLOYD_PREDECESSOR_PATH, 'w'))\n",
    "dict_to_gzip(fw_result[0],'./cities/Detroit/clean/fw_result_pt.txt.gz')\n",
    "network.to_csv(INT_NET_DF_FLOYD_PATH)"
   ]
  },
  {
   "cell_type": "code",
   "execution_count": null,
   "metadata": {
    "collapsed": true
   },
   "outputs": [],
   "source": []
  }
 ],
 "metadata": {
  "anaconda-cloud": {},
  "kernelspec": {
   "display_name": "Python [default]",
   "language": "python",
   "name": "python3"
  },
  "language_info": {
   "codemirror_mode": {
    "name": "ipython",
    "version": 3
   },
   "file_extension": ".py",
   "mimetype": "text/x-python",
   "name": "python",
   "nbconvert_exporter": "python",
   "pygments_lexer": "ipython3",
   "version": "3.5.4"
  }
 },
 "nbformat": 4,
 "nbformat_minor": 2
}
