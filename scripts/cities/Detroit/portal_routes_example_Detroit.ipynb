{
 "cells": [
  {
   "cell_type": "code",
   "execution_count": 1,
   "metadata": {},
   "outputs": [],
   "source": [
    "import osmnet\n",
    "import json\n",
    "import networkx as nx\n",
    "from shapely.geometry import Point, shape\n",
    "from scipy import spatial\n",
    "import numpy as np\n",
    "import pickle\n",
    "import pandas as pd"
   ]
  },
  {
   "cell_type": "code",
   "execution_count": 2,
   "metadata": {},
   "outputs": [],
   "source": [
    "def rename_nodes(nodes_df, edges_df, node_id_name, to_name, from_name):\n",
    "    nodes_df['old_node_id']=nodes_df[node_id_name].copy()\n",
    "    nodes_df['node_id']=range(len(nodes_df))\n",
    "    node_name_map={nodes_df.iloc[i]['old_node_id']: i for i in range(len(nodes_df))}\n",
    "    edges_df['from_node_id']=edges_df.apply(lambda row: node_name_map[row[from_name]], axis=1)\n",
    "    edges_df['to_node_id']=edges_df.apply(lambda row: node_name_map[row[to_name]], axis=1)\n",
    "    return nodes_df, edges_df, node_name_map"
   ]
  },
  {
   "cell_type": "code",
   "execution_count": 3,
   "metadata": {},
   "outputs": [],
   "source": [
    "city='Detroit'\n",
    "\n",
    "ALL_ZONES_PATH='./clean/model_area.geojson'\n",
    "PORTALS_PATH='./clean/portals.geojson'\n",
    "TABLE_AREA_PATH='./clean/table_area.geojson'\n",
    "\n",
    "# networks from CS_Accessibility- placed in folder manually for now\n",
    "PT_NODES_PATH='./clean/comb_network_nodes.csv'\n",
    "PT_EDGES_PATH='./clean/comb_network_edges.csv'\n",
    "PED_NODES_PATH='./clean/osm_ped_network_nodes.csv'\n",
    "PED_EDGES_PATH='./clean/osm_ped_network_edges.csv'\n",
    "\n",
    "\n",
    "ROUTE_COSTS_PATH='./clean/route_costs.json'\n",
    "SIM_GRAPHS_PATH='./clean/sim_area_nets.p'\n",
    "SIM_NET_GEOJSON_PATH='./clean/'\n",
    "\n",
    "SPEEDS_MET_S={'driving':30/3.6,\n",
    "        'cycling':15/3.6,\n",
    "        'walking':4.8/3.6}\n",
    "\n",
    "pandana_link_types={'osm to transit': 'waiting',\n",
    "                    'transit to osm': 'waiting',\n",
    "                    'walk': 'walking',\n",
    "                    'transit': 'pt'\n",
    "                    }\n"
   ]
  },
  {
   "cell_type": "code",
   "execution_count": 4,
   "metadata": {},
   "outputs": [],
   "source": [
    "# =============================================================================\n",
    "# Load network data\n",
    "# =============================================================================\n",
    "# get the area bounds\n",
    "all_zones_shp=json.load(open(ALL_ZONES_PATH))\n",
    "if city=='Hamburg':\n",
    "    all_zones_geoid_order=[f['properties']['GEO_ID'] for f in all_zones_shp['features']]\n",
    "else:\n",
    "    all_zones_geoid_order=[f['properties']['GEO_ID'].split('US')[1] for f in all_zones_shp['features']]\n",
    "\n",
    "portals=json.load(open(PORTALS_PATH))\n",
    "table_area=json.load(open(TABLE_AREA_PATH))\n",
    "\n",
    "\n"
   ]
  },
  {
   "cell_type": "code",
   "execution_count": 5,
   "metadata": {},
   "outputs": [],
   "source": [
    "min_lon, min_lat, max_lon, max_lat=float('inf'), float('inf'), -float('inf'), -float('inf')\n",
    "for f in all_zones_shp['features']:\n",
    "    for polygon in f['geometry']['coordinates']:\n",
    "        for vertex in polygon:\n",
    "            if vertex[0]<min_lon:\n",
    "                min_lon=vertex[0]\n",
    "            if vertex[0]>max_lon:\n",
    "                max_lon=vertex[0]\n",
    "            if vertex[1]<min_lat:\n",
    "                min_lat=vertex[1]\n",
    "            if vertex[1]>max_lat:\n",
    "                max_lat=vertex[1]\n",
    "boundsAll=[min_lon,min_lat, max_lon, max_lat]"
   ]
  },
  {
   "cell_type": "code",
   "execution_count": 6,
   "metadata": {},
   "outputs": [
    {
     "name": "stdout",
     "output_type": "stream",
     "text": [
      "Requesting network data within bounding box from Overpass API in 4 request(s)\n",
      "Posting to http://www.overpass-api.de/api/interpreter with timeout=180, \"{'data': '[out:json][timeout:180];(way[\"highway\"][\"highway\"!~\"cycleway|footway|path|pedestrian|steps|track|proposed|construction|bridleway|abandoned|platform|raceway|service\"][\"motor_vehicle\"!~\"no\"][\"motorcar\"!~\"no\"][\"service\"!~\"parking|parking_aisle|driveway|emergency_access\"](42.03147965,-83.21226437,42.24793831,-82.87033451);>;);out;'}\"\n",
      "Downloaded 4,407.1KB from www.overpass-api.de in 0.75 seconds\n",
      "Posting to http://www.overpass-api.de/api/interpreter with timeout=180, \"{'data': '[out:json][timeout:180];(way[\"highway\"][\"highway\"!~\"cycleway|footway|path|pedestrian|steps|track|proposed|construction|bridleway|abandoned|platform|raceway|service\"][\"motor_vehicle\"!~\"no\"][\"motorcar\"!~\"no\"][\"service\"!~\"parking|parking_aisle|driveway|emergency_access\"](42.03147965,-83.55190700,42.24185042,-83.20496860);>;);out;'}\"\n",
      "Downloaded 7,409.1KB from www.overpass-api.de in 1.35 seconds\n",
      "Posting to http://www.overpass-api.de/api/interpreter with timeout=180, \"{'data': '[out:json][timeout:180];(way[\"highway\"][\"highway\"!~\"cycleway|footway|path|pedestrian|steps|track|proposed|construction|bridleway|abandoned|platform|raceway|service\"][\"motor_vehicle\"!~\"no\"][\"motorcar\"!~\"no\"][\"service\"!~\"parking|parking_aisle|driveway|emergency_access\"](42.23479314,-83.55190700,42.45174167,-83.21226437);>;);out;'}\"\n",
      "Downloaded 22,811.6KB from www.overpass-api.de in 3.01 seconds\n",
      "Posting to http://www.overpass-api.de/api/interpreter with timeout=180, \"{'data': '[out:json][timeout:180];(way[\"highway\"][\"highway\"!~\"cycleway|footway|path|pedestrian|steps|track|proposed|construction|bridleway|abandoned|platform|raceway|service\"][\"motor_vehicle\"!~\"no\"][\"motorcar\"!~\"no\"][\"service\"!~\"parking|parking_aisle|driveway|emergency_access\"](42.24185042,-83.21963959,42.45174167,-82.87033451);>;);out;'}\"\n",
      "Downloaded 20,434.4KB from www.overpass-api.de in 2.00 seconds\n",
      "Downloaded OSM network data within bounding box from Overpass API in 4 request(s) and 9.07 seconds\n",
      "21,637 duplicate records removed. Took 5.31 seconds\n",
      "Returning OSM data with 307,997 nodes and 54,114 ways...\n",
      "Edge node pairs completed. Took 109.71 seconds\n",
      "Returning processed graph with 73,167 nodes and 109,177 edges...\n",
      "Completed OSM data download and Pandana node and edge table creation in 127.52 seconds\n"
     ]
    }
   ],
   "source": [
    "drive_nodes,drive_edges=osmnet.load.network_from_bbox(lat_min=boundsAll[1], lng_min=boundsAll[0], lat_max=boundsAll[3], \n",
    "                              lng_max=boundsAll[2], bbox=None, network_type='drive', \n",
    "                              two_way=True, timeout=180, \n",
    "                              custom_osm_filter=None)"
   ]
  },
  {
   "cell_type": "code",
   "execution_count": 7,
   "metadata": {},
   "outputs": [
    {
     "name": "stderr",
     "output_type": "stream",
     "text": [
      "/Users/doorleyr/anaconda/envs/urbanaccess/lib/python3.6/site-packages/IPython/core/interactiveshell.py:3049: DtypeWarning: Columns (1,2,3,5,6,7,8,9,10,11,12,14,15,18,19,20,21,22,23,24) have mixed types. Specify dtype option on import or set low_memory=False.\n",
      "  interactivity=interactivity, compiler=compiler, result=result)\n",
      "/Users/doorleyr/anaconda/envs/urbanaccess/lib/python3.6/site-packages/IPython/core/interactiveshell.py:3049: DtypeWarning: Columns (1,6,8,9) have mixed types. Specify dtype option on import or set low_memory=False.\n",
      "  interactivity=interactivity, compiler=compiler, result=result)\n",
      "/Users/doorleyr/anaconda/envs/urbanaccess/lib/python3.6/site-packages/IPython/core/interactiveshell.py:3049: DtypeWarning: Columns (1,8,13,15,16) have mixed types. Specify dtype option on import or set low_memory=False.\n",
      "  interactivity=interactivity, compiler=compiler, result=result)\n"
     ]
    }
   ],
   "source": [
    "# get the osm as nodes and edges dfs\n",
    "# TODO: try one-way and find routes between highest degree node in each zone\n",
    "cycle_nodes,cycle_edges= drive_nodes.copy(),drive_edges.copy()\n",
    "\n",
    "# get the pt net as nodes and edges dfs\n",
    "pt_edges=pd.read_csv(PT_EDGES_PATH)\n",
    "pt_nodes=pd.read_csv(PT_NODES_PATH)\n",
    "\n",
    "walk_edges=pd.read_csv(PED_EDGES_PATH)\n",
    "walk_nodes=pd.read_csv(PED_NODES_PATH)\n",
    "\n",
    "# renumber nodes in both networks as 1 to N\n",
    "pt_nodes, pt_edges, _ =rename_nodes(pt_nodes, pt_edges, 'id_int', 'to_int', 'from_int')\n",
    "drive_nodes, drive_edges, _=rename_nodes(drive_nodes, drive_edges, 'id', 'to', 'from')\n",
    "walk_nodes, walk_edges, _=rename_nodes(walk_nodes, walk_edges, 'id', 'to', 'from')\n",
    "cycle_nodes, cycle_edges, _=rename_nodes(cycle_nodes, cycle_edges, 'id', 'to', 'from')\n",
    "\n",
    "network_dfs={'driving': {'edges':drive_edges, 'nodes': drive_nodes} ,\n",
    "              'pt': {'edges':pt_edges, 'nodes': pt_nodes},\n",
    "              'walking': {'edges':walk_edges, 'nodes': walk_nodes},\n",
    "              'cycling': {'edges':cycle_edges, 'nodes': cycle_nodes}}"
   ]
  },
  {
   "cell_type": "code",
   "execution_count": 8,
   "metadata": {},
   "outputs": [],
   "source": [
    "for osm_mode in ['driving', 'walking', 'cycling']:\n",
    "    G=nx.Graph()\n",
    "    for i, row in network_dfs[osm_mode]['edges'].iterrows():\n",
    "        G.add_edge(row['from_node_id'], row['to_node_id'], attr_dict={\n",
    "                'weight_minutes':(row['distance']/SPEEDS_MET_S[osm_mode])/60,\n",
    "                'type': osm_mode})\n",
    "    network_dfs[osm_mode]['graph']=G\n",
    "    \n",
    "G_pt=nx.Graph()\n",
    "for i, row in network_dfs['pt']['edges'].iterrows():\n",
    "    G_pt.add_edge(row['from_node_id'], row['to_node_id'], \n",
    "                     attr_dict={'weight_minutes':row['weight'],\n",
    "                                'type': pandana_link_types[row['net_type']]})\n",
    "network_dfs['pt']['graph']=G_pt"
   ]
  },
  {
   "cell_type": "code",
   "execution_count": 9,
   "metadata": {},
   "outputs": [],
   "source": [
    "#for each network\n",
    "#for each portal\n",
    "#find nodes inside the portal and add zero_cost links to/from those\n",
    "for net in network_dfs:\n",
    "    for p in range(len(portals['features'])):\n",
    "        p_shape=shape(portals['features'][p]['geometry'])\n",
    "        nodes_inside=[n for n in range(len(network_dfs[net]['nodes'])) if p_shape.contains(\n",
    "                Point([network_dfs[net]['nodes'].iloc[n]['x'],\n",
    "                       network_dfs[net]['nodes'].iloc[n]['y']]))]\n",
    "        for ni in nodes_inside:\n",
    "            network_dfs[net]['graph'].add_edge('p'+str(p), ni,\n",
    "                       attr_dict={'type': 'from_portal', 'weight_minutes':0, 'distance': 0})\n",
    "            network_dfs[net]['graph'].add_edge(ni, 'p'+str(p),\n",
    "                       attr_dict={'type': 'to_portal', 'weight_minutes':0, 'distance': 0})\n",
    "\n",
    "#import matplotlib.pyplot as plt\n",
    "#colors={'driving': 'red', 'pt': 'green'}\n",
    "#plt.figure()\n",
    "## Test: find the nodes that connect to each portal\n",
    "neighbours={}\n",
    "for net in network_dfs:\n",
    "    neighbours[net]={}\n",
    "    for p in range(len(portals['features'])):\n",
    "        if network_dfs[net]['graph'].has_node('p'+str(p)):\n",
    "            nb=[n for n in network_dfs[net]['graph'].neighbors('p'+str(p))]\n",
    "            neighbours[net][p]=nb \n",
    "        else:\n",
    "            neighbours[net][p]=[]\n",
    "#xs=[network_dfs[net]['nodes'].iloc[n]['x'] for n in neighbours[net][0]]+[network_dfs[net]['nodes'].iloc[n]['x'] for n in neighbours[net][1]] +    [network_dfs[net]['nodes'].iloc[n]['x'] for n in neighbours[net][2]] + [network_dfs[net]['nodes'].iloc[n]['x'] for n in neighbours[net][3]] \n",
    "#ys=[network_dfs[net]['nodes'].iloc[n]['y'] for n in neighbours[net][0]]+[network_dfs[net]['nodes'].iloc[n]['y'] for n in neighbours[net][1]] +    [network_dfs[net]['nodes'].iloc[n]['y'] for n in neighbours[net][2]] + [network_dfs[net]['nodes'].iloc[n]['y'] for n in neighbours[net][3]] \n",
    "#plt.scatter(xs, ys)\n",
    "\n",
    "# =============================================================================\n",
    "# Find routes\n",
    "# =============================================================================\n",
    "## get the N closest nodes to the centre of each zone\n",
    "lon_lat_list= [[shape(f['geometry']).centroid.x, shape(f['geometry']).centroid.y\n",
    "                ] for f in all_zones_shp['features']]  \n",
    "closest_nodes={}\n",
    "for net in network_dfs:\n",
    "    closest_nodes[net]=[]\n",
    "    kdtree_nodes=spatial.KDTree(np.array(network_dfs[net]['nodes'][['x', 'y']]))\n",
    "    for i in range(len(lon_lat_list)):\n",
    "        _, c_nodes=kdtree_nodes.query(lon_lat_list[i], 10)\n",
    "        closest_nodes[net].append(list(c_nodes))"
   ]
  },
  {
   "cell_type": "code",
   "execution_count": 10,
   "metadata": {},
   "outputs": [],
   "source": [
    "from ipyleaflet import Map, Polyline, basemaps, basemap_to_tiles, Circle, Marker\n",
    "%matplotlib inline"
   ]
  },
  {
   "cell_type": "code",
   "execution_count": 11,
   "metadata": {},
   "outputs": [],
   "source": [
    "colors=['#1b9e77',\n",
    "'#d95f02',\n",
    "'#7570b3',\n",
    "'#e7298a',\n",
    "'#66a61e']"
   ]
  },
  {
   "cell_type": "code",
   "execution_count": 12,
   "metadata": {},
   "outputs": [
    {
     "data": {
      "application/vnd.jupyter.widget-view+json": {
       "model_id": "1dd51bea4004494b86e9d970cf68d1f4",
       "version_major": 2,
       "version_minor": 0
      },
      "text/plain": [
       "Map(basemap={'url': 'https://{s}.tile.openstreetmap.org/{z}/{x}/{y}.png', 'max_zoom': 19, 'attribution': 'Map …"
      ]
     },
     "metadata": {},
     "output_type": "display_data"
    }
   ],
   "source": [
    "polylines=[]\n",
    "mode='driving'\n",
    "zone=200\n",
    "routes=[]\n",
    "m = Map(center = (42.35, -83.2), zoom =12, layers=[basemap_to_tiles(basemaps.CartoDB.DarkMatter)])\n",
    "for p in range(len(portals['features'])):\n",
    "    node_path=nx.shortest_path(network_dfs[mode]['graph'],closest_nodes[mode][zone][0], \n",
    "                                                  'p'+str(p), weight='weight')\n",
    "    node_coords=[list(network_dfs[mode]['nodes'].iloc[n][['y', 'x']]) for n in node_path[:-1]]\n",
    "    line = Polyline(\n",
    "        locations = [node_coords],\n",
    "        weight=2,\n",
    "        opacity=1,\n",
    "        color = colors[p],\n",
    "        fill=False\n",
    "    )\n",
    "    m.add_layer(line)\n",
    "m    "
   ]
  },
  {
   "cell_type": "code",
   "execution_count": 16,
   "metadata": {},
   "outputs": [
    {
     "data": {
      "application/vnd.jupyter.widget-view+json": {
       "model_id": "dfbee4e5650e4add90d17d5bb672623f",
       "version_major": 2,
       "version_minor": 0
      },
      "text/plain": [
       "Map(basemap={'url': 'https://{s}.tile.openstreetmap.org/{z}/{x}/{y}.png', 'max_zoom': 19, 'attribution': 'Map …"
      ]
     },
     "metadata": {},
     "output_type": "display_data"
    }
   ],
   "source": [
    "polylines=[]\n",
    "routes=[]\n",
    "destination=[-83.065940, 42.332349]\n",
    "dest_node=kdtree_nodes.query(destination, 1)[1]\n",
    "m = Map(center = (42.35, -83.2), zoom =12, layers=[basemap_to_tiles(basemaps.CartoDB.DarkMatter)])\n",
    "for p in range(len(portals['features'])):\n",
    "    node_path=nx.shortest_path(network_dfs[mode]['graph'], \n",
    "                                                  'p'+str(p), dest_node, weight='weight')\n",
    "    node_coords=[list(network_dfs[mode]['nodes'].iloc[n][['y', 'x']]) for n in node_path[1:]]\n",
    "    line = Polyline(\n",
    "        locations = [node_coords],\n",
    "        weight=2,\n",
    "        opacity=1,\n",
    "        color = colors[p],\n",
    "        fill=False\n",
    "    )\n",
    "    m.add_layer(line)\n",
    "m  "
   ]
  },
  {
   "cell_type": "markdown",
   "metadata": {},
   "source": [
    "Park and Autonomus Ride Example"
   ]
  },
  {
   "cell_type": "code",
   "execution_count": 35,
   "metadata": {},
   "outputs": [
    {
     "data": {
      "application/vnd.jupyter.widget-view+json": {
       "model_id": "06f5cecc8dba4c33a25a85751fd1b36d",
       "version_major": 2,
       "version_minor": 0
      },
      "text/plain": [
       "Map(basemap={'url': 'https://{s}.tile.openstreetmap.org/{z}/{x}/{y}.png', 'max_zoom': 19, 'attribution': 'Map …"
      ]
     },
     "metadata": {},
     "output_type": "display_data"
    }
   ],
   "source": [
    "polylines=[]\n",
    "routes=[]\n",
    "destinations=[[  -83.066988, 42.331442], [ -83.064231, 42.327925,]]\n",
    "origin_portals=[0,1]\n",
    "m = Map(center = (42.326623, -83.073996), zoom =14, layers=[basemap_to_tiles(basemaps.CartoDB.DarkMatter)])\n",
    "for i in range(len(origin_portals)):\n",
    "    dest_node=kdtree_nodes.query(destinations[i], 1)[1]\n",
    "    node_path=nx.shortest_path(network_dfs[mode]['graph'], \n",
    "                                                  'p'+str(origin_portals[i]), dest_node, weight='weight')\n",
    "    node_coords=[list(network_dfs[mode]['nodes'].iloc[n][['y', 'x']]) for n in node_path[1:]]\n",
    "    line = Polyline(\n",
    "        locations = [node_coords],\n",
    "        weight=2,\n",
    "        opacity=0.5,\n",
    "        color = 'red',\n",
    "        fill=False\n",
    "    )\n",
    "    m.add_layer(line)\n",
    "m  "
   ]
  },
  {
   "cell_type": "code",
   "execution_count": 36,
   "metadata": {},
   "outputs": [
    {
     "data": {
      "application/vnd.jupyter.widget-view+json": {
       "model_id": "6485191c14e54fe5856e412dc8e9e9a5",
       "version_major": 2,
       "version_minor": 0
      },
      "text/plain": [
       "Map(basemap={'url': 'https://{s}.tile.openstreetmap.org/{z}/{x}/{y}.png', 'max_zoom': 19, 'attribution': 'Map …"
      ]
     },
     "metadata": {},
     "output_type": "display_data"
    }
   ],
   "source": [
    "polylines=[]\n",
    "routes=[]\n",
    "dest_nodes=[]\n",
    "parking_locations=[ -83.082386, 42.329627]\n",
    "m = Map(center = (42.326623, -83.073996), zoom =14, layers=[basemap_to_tiles(basemaps.CartoDB.DarkMatter)])\n",
    "for i in range(len(origin_portals)):\n",
    "    park_node=kdtree_nodes.query(parking_location, 1)[1]\n",
    "    dest_nodes.append(kdtree_nodes.query(destinations[i], 1)[1])\n",
    "    node_path_to_parking=nx.shortest_path(network_dfs[mode]['graph'], \n",
    "                                                  'p'+str(origin_portals[i]), park_node, weight='weight')\n",
    "    node_coords=[list(network_dfs[mode]['nodes'].iloc[n][['y', 'x']]) for n in node_path_to_parking[1:]]\n",
    "    line = Polyline(\n",
    "        locations = [node_coords],\n",
    "        weight=2,\n",
    "        opacity=0.5,\n",
    "        color = 'red',\n",
    "        fill=False\n",
    "    )\n",
    "    m.add_layer(line)\n",
    "# shared ride from parking to destinations\n",
    "node_path_to_dest=nx.shortest_path(network_dfs[mode]['graph'], \n",
    "                                              park_node, dest_nodes[0], weight='weight')\n",
    "node_path_to_dest+=nx.shortest_path(network_dfs[mode]['graph'], \n",
    "                                              dest_nodes[0], dest_nodes[1], weight='weight')\n",
    "node_coords=[list(network_dfs[mode]['nodes'].iloc[n][['y', 'x']]) for n in node_path_to_dest]\n",
    "line = Polyline(\n",
    "    locations = [node_coords],\n",
    "    weight=2,\n",
    "    opacity=0.5,\n",
    "    color = 'yellow',\n",
    "    fill=False\n",
    ")\n",
    "m.add_layer(line) \n",
    "m  "
   ]
  },
  {
   "cell_type": "code",
   "execution_count": null,
   "metadata": {},
   "outputs": [],
   "source": []
  }
 ],
 "metadata": {
  "anaconda-cloud": {},
  "kernelspec": {
   "display_name": "Python 3",
   "language": "python",
   "name": "python3"
  },
  "language_info": {
   "codemirror_mode": {
    "name": "ipython",
    "version": 3
   },
   "file_extension": ".py",
   "mimetype": "text/x-python",
   "name": "python",
   "nbconvert_exporter": "python",
   "pygments_lexer": "ipython3",
   "version": "3.6.7"
  }
 },
 "nbformat": 4,
 "nbformat_minor": 2
}
