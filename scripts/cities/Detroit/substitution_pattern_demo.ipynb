{
 "cells": [
  {
   "cell_type": "code",
   "execution_count": 2,
   "metadata": {
    "collapsed": true
   },
   "outputs": [],
   "source": [
    "import os\n",
    "os.chdir('../../')"
   ]
  },
  {
   "cell_type": "code",
   "execution_count": 4,
   "metadata": {},
   "outputs": [],
   "source": [
    "from mobility_service_model import MobilityModel\n",
    "from activity_scheduler import ActivityScheduler\n",
    "from mode_choice_nhts import NhtsModeLogit\n",
    "from two_stage_logit_hlc import TwoStageLogitHLC\n",
    "from cs_handler import CS_Handler\n",
    "\n",
    "import numpy as np\n",
    "import warnings\n",
    "warnings.filterwarnings('ignore')\n",
    "from sklearn.metrics import confusion_matrix\n",
    "from copy import deepcopy\n",
    "import matplotlib.pyplot as plt"
   ]
  },
  {
   "cell_type": "markdown",
   "metadata": {},
   "source": [
    "# Functions"
   ]
  },
  {
   "cell_type": "code",
   "execution_count": 5,
   "metadata": {
    "collapsed": true
   },
   "outputs": [],
   "source": [
    "def compair_prob(base_prob, new_prob, alts, groups=[1], prefix=''):\n",
    "    if base_prob.shape[1] < len(alts): \n",
    "        base_prob = np.hstack((base_prob, np.zeros((base_prob.shape[0], len(alts)-base_prob.shape[1]))))\n",
    "    for g in groups:\n",
    "        print('\\n{}Change of Probability Distribution, GroupID = {}:'.format(prefix, g))\n",
    "        print('-'*80)\n",
    "        print('{:15s} {:15s} {:15s} {:15s} {:15s}'.format('Mode', 'Base', 'New', 'New-Base', '(New-Base)/Base%'))\n",
    "        for idx, alt in enumerate(alts.values()):\n",
    "            print('{:15s} {:<15.4f} {:<15.4f} {:<15.4f} {:<15.2%}'.format(alt, base_prob[g,idx], new_prob[g,idx], new_prob[g,idx]-base_prob[g,idx],\n",
    "                                          (new_prob[g,idx]-base_prob[g,idx])/base_prob[g,idx]))\n",
    "            \n",
    "def nested_logit_experiment_individual(dissimilarity, groupID):\n",
    "    nests_spec=[{'name': 'pt_like', 'alts':['share_bike', 'PT'], 'lambda':dissimilarity}]\n",
    "    new_gnl_model.gnl_predict(nests_spec)\n",
    "    alts = {0:'drive', 1:'cycle', 2:'walk', 3:'PT', 4:'bikeshare'}\n",
    "    compair_prob(base_model.predicted_prob, new_mnl_model.predicted_prob, alts, groups=[groupID], prefix='For Logit model, ')\n",
    "    compair_prob(base_model.predicted_prob, new_gnl_model.predicted_prob, alts, groups=[groupID], \n",
    "              prefix='For Nested Logit model, ')\n",
    "    \n",
    "def nested_logit_experiment_overall(dissimilarity):\n",
    "    nests_spec=[{'name': 'pt_like', 'alts':['share_bike', 'PT'], 'lambda':dissimilarity},\n",
    "                {'name': 'walk_like', 'alts':['share_bike','walk'], 'lambda': 0.7}\n",
    "               ]\n",
    "    new_gnl_model.gnl_predict(nests_spec)\n",
    "    share_bike_prob_comes_from = np.zeros(4)\n",
    "    for base_prob_row, gnl_prob_row in zip(base_model.predicted_prob, new_gnl_model.predicted_prob):\n",
    "        share_bike_prob_comes_from += base_prob_row - gnl_prob_row[:4]\n",
    "    share_bike_prob_comes_from  = share_bike_prob_comes_from / share_bike_prob_comes_from.sum()\n",
    "    sorted_idx = (-share_bike_prob_comes_from).argsort()\n",
    "    alts_list = np.asarray(['drive', 'cycle', 'walk', 'PT'])\n",
    "    plt.figure(figsize=(12,8))\n",
    "    plt.bar(alts_list[sorted_idx], share_bike_prob_comes_from[sorted_idx])\n",
    "    for x, y in zip([0,1,2,3], share_bike_prob_comes_from[sorted_idx]):\n",
    "        plt.text(x, y+0.01, '{:4.2%}'.format(y), ha='center', va='bottom',fontsize=20)\n",
    "    plt.xticks(fontsize=20)\n",
    "    plt.yticks(fontsize=20)\n",
    "    plt.title('Substituted Modes for Bikeshare',fontsize=25)\n",
    "    plt.ylim([0,0.48])\n",
    "    "
   ]
  },
  {
   "cell_type": "markdown",
   "metadata": {},
   "source": [
    "# Prepare"
   ]
  },
  {
   "cell_type": "code",
   "execution_count": 6,
   "metadata": {},
   "outputs": [
    {
     "name": "stdout",
     "output_type": "stream",
     "text": [
      "Building transport network\n",
      "Building geography\n",
      "Building synthetic population\n",
      "\t Creating Trips\n",
      "[warning] no information for share_bike_walk_time_PT_minutes, set to 0\n",
      "[warning] no information for share_bike_drive_time_PT_minutes, set to 0\n",
      "[warning] no information for share_bike_walk_time_PT_minutes, set to 0\n",
      "[warning] no information for share_bike_drive_time_PT_minutes, set to 0\n"
     ]
    }
   ],
   "source": [
    "model=MobilityModel('corktown', 'Detroit')\n",
    "model.assign_activity_scheduler(ActivityScheduler(model=model))\n",
    "model.assign_mode_choice_model(NhtsModeLogit(table_name='corktown', city_folder='Detroit'))\n",
    "\n",
    "# create trips for base_sim persons\n",
    "for person in model.pop.base_sim:\n",
    "    model.activity_scheduler.sample_activity_schedules(person, model=model)\n",
    "model.create_trips(model.pop.base_sim)\n",
    "\n",
    "persons = model.pop.base_sim\n",
    "all_trips=[]\n",
    "for person_id, p in enumerate(persons):\n",
    "    all_trips.extend(p.trips_to_list(person_id=person_id))\n",
    "model.mode_choice_model.generate_feature_df(all_trips)\n",
    "\n",
    "# prepare share_bike specification\n",
    "share_bike_spec={'name': 'share_bike', \n",
    "                 'attrs':{'time_minutes': 'c*1'},  \n",
    "                 'copy': 'cycle',\n",
    "                 \"copy_route\": \"cycling\",\"activity\": \"cycling\",\"speed_m_s\": 4.167,\n",
    "                 \"co2_emissions_kg_met\": 0,\"fixed_costs\": {}}\n",
    "\n",
    "# prepare share_bike parameters\n",
    "pt_similarity = 0.7\n",
    "params_for_share_bike = {}\n",
    "existing_params = model.mode_choice_model.logit_model['params']\n",
    "for g_attr in model.mode_choice_model.logit_generic_attrs:\n",
    "    params_for_share_bike['{} for share_bike'.format(g_attr)] = \\\n",
    "        existing_params['{} for PT'.format(g_attr)] * pt_similarity + \\\n",
    "        existing_params['{} for walk'.format(g_attr)] * (1-pt_similarity)\n",
    "params_for_share_bike['ASC for share_bike'] = existing_params['ASC for PT'] * pt_similarity + \\\n",
    "        existing_params['ASC for walk'] * (1-pt_similarity)\n",
    "\n",
    "# base scenario without share_bike\n",
    "base_model = deepcopy(model.mode_choice_model)\n",
    "base_model.mnl_predict()\n",
    "\n",
    "# new scenario with share_bike, MNL(multinomial logit, or logit)\n",
    "new_mnl_model = deepcopy(model.mode_choice_model)\n",
    "new_mnl_model.set_new_alt(share_bike_spec)\n",
    "new_mnl_model.set_logit_model_params(params_for_share_bike)\n",
    "new_mnl_model.mnl_predict()\n",
    "\n",
    "# new scenario with share_bike, GNL(generalized nested logit), waiting for nest specification\n",
    "new_gnl_model = deepcopy(model.mode_choice_model)\n",
    "new_gnl_model.set_new_alt(share_bike_spec)\n",
    "new_gnl_model.set_logit_model_params(params_for_share_bike)"
   ]
  },
  {
   "cell_type": "markdown",
   "metadata": {},
   "source": [
    "# Nested Logit Experiments"
   ]
  },
  {
   "cell_type": "markdown",
   "metadata": {},
   "source": [
    "## Individual Level "
   ]
  },
  {
   "cell_type": "code",
   "execution_count": 7,
   "metadata": {},
   "outputs": [
    {
     "ename": "AttributeError",
     "evalue": "'NhtsModeLogit' object has no attribute 'gnl_predict'",
     "output_type": "error",
     "traceback": [
      "\u001b[0;31m---------------------------------------------------------------------------\u001b[0m",
      "\u001b[0;31mAttributeError\u001b[0m                            Traceback (most recent call last)",
      "\u001b[0;32m<ipython-input-7-67272ed5225a>\u001b[0m in \u001b[0;36m<module>\u001b[0;34m()\u001b[0m\n\u001b[1;32m      3\u001b[0m \u001b[0mgroupID\u001b[0m \u001b[0;34m=\u001b[0m \u001b[0;36m0\u001b[0m\u001b[0;34m\u001b[0m\u001b[0m\n\u001b[1;32m      4\u001b[0m \u001b[0;34m\u001b[0m\u001b[0m\n\u001b[0;32m----> 5\u001b[0;31m \u001b[0mnested_logit_experiment_individual\u001b[0m\u001b[0;34m(\u001b[0m\u001b[0mdissimilarity\u001b[0m\u001b[0;34m,\u001b[0m \u001b[0mgroupID\u001b[0m\u001b[0;34m)\u001b[0m\u001b[0;34m\u001b[0m\u001b[0m\n\u001b[0m",
      "\u001b[0;32m<ipython-input-5-12bf84197136>\u001b[0m in \u001b[0;36mnested_logit_experiment_individual\u001b[0;34m(dissimilarity, groupID)\u001b[0m\n\u001b[1;32m     12\u001b[0m \u001b[0;32mdef\u001b[0m \u001b[0mnested_logit_experiment_individual\u001b[0m\u001b[0;34m(\u001b[0m\u001b[0mdissimilarity\u001b[0m\u001b[0;34m,\u001b[0m \u001b[0mgroupID\u001b[0m\u001b[0;34m)\u001b[0m\u001b[0;34m:\u001b[0m\u001b[0;34m\u001b[0m\u001b[0m\n\u001b[1;32m     13\u001b[0m     \u001b[0mnests_spec\u001b[0m\u001b[0;34m=\u001b[0m\u001b[0;34m[\u001b[0m\u001b[0;34m{\u001b[0m\u001b[0;34m'name'\u001b[0m\u001b[0;34m:\u001b[0m \u001b[0;34m'pt_like'\u001b[0m\u001b[0;34m,\u001b[0m \u001b[0;34m'alts'\u001b[0m\u001b[0;34m:\u001b[0m\u001b[0;34m[\u001b[0m\u001b[0;34m'share_bike'\u001b[0m\u001b[0;34m,\u001b[0m \u001b[0;34m'PT'\u001b[0m\u001b[0;34m]\u001b[0m\u001b[0;34m,\u001b[0m \u001b[0;34m'lambda'\u001b[0m\u001b[0;34m:\u001b[0m\u001b[0mdissimilarity\u001b[0m\u001b[0;34m}\u001b[0m\u001b[0;34m]\u001b[0m\u001b[0;34m\u001b[0m\u001b[0m\n\u001b[0;32m---> 14\u001b[0;31m     \u001b[0mnew_gnl_model\u001b[0m\u001b[0;34m.\u001b[0m\u001b[0mgnl_predict\u001b[0m\u001b[0;34m(\u001b[0m\u001b[0mnests_spec\u001b[0m\u001b[0;34m)\u001b[0m\u001b[0;34m\u001b[0m\u001b[0m\n\u001b[0m\u001b[1;32m     15\u001b[0m     \u001b[0malts\u001b[0m \u001b[0;34m=\u001b[0m \u001b[0;34m{\u001b[0m\u001b[0;36m0\u001b[0m\u001b[0;34m:\u001b[0m\u001b[0;34m'drive'\u001b[0m\u001b[0;34m,\u001b[0m \u001b[0;36m1\u001b[0m\u001b[0;34m:\u001b[0m\u001b[0;34m'cycle'\u001b[0m\u001b[0;34m,\u001b[0m \u001b[0;36m2\u001b[0m\u001b[0;34m:\u001b[0m\u001b[0;34m'walk'\u001b[0m\u001b[0;34m,\u001b[0m \u001b[0;36m3\u001b[0m\u001b[0;34m:\u001b[0m\u001b[0;34m'PT'\u001b[0m\u001b[0;34m,\u001b[0m \u001b[0;36m4\u001b[0m\u001b[0;34m:\u001b[0m\u001b[0;34m'bikeshare'\u001b[0m\u001b[0;34m}\u001b[0m\u001b[0;34m\u001b[0m\u001b[0m\n\u001b[1;32m     16\u001b[0m     \u001b[0mcompair_prob\u001b[0m\u001b[0;34m(\u001b[0m\u001b[0mbase_model\u001b[0m\u001b[0;34m.\u001b[0m\u001b[0mpredicted_prob\u001b[0m\u001b[0;34m,\u001b[0m \u001b[0mnew_mnl_model\u001b[0m\u001b[0;34m.\u001b[0m\u001b[0mpredicted_prob\u001b[0m\u001b[0;34m,\u001b[0m \u001b[0malts\u001b[0m\u001b[0;34m,\u001b[0m \u001b[0mgroups\u001b[0m\u001b[0;34m=\u001b[0m\u001b[0;34m[\u001b[0m\u001b[0mgroupID\u001b[0m\u001b[0;34m]\u001b[0m\u001b[0;34m,\u001b[0m \u001b[0mprefix\u001b[0m\u001b[0;34m=\u001b[0m\u001b[0;34m'For Logit model, '\u001b[0m\u001b[0;34m)\u001b[0m\u001b[0;34m\u001b[0m\u001b[0m\n",
      "\u001b[0;31mAttributeError\u001b[0m: 'NhtsModeLogit' object has no attribute 'gnl_predict'"
     ]
    }
   ],
   "source": [
    "# dissimilarity between share bike and public transport\n",
    "dissimilarity = 0.5\n",
    "groupID = 0\n",
    "\n",
    "nested_logit_experiment_individual(dissimilarity, groupID)"
   ]
  },
  {
   "cell_type": "markdown",
   "metadata": {},
   "source": [
    "## Overall"
   ]
  },
  {
   "cell_type": "code",
   "execution_count": 68,
   "metadata": {},
   "outputs": [
    {
     "data": {
      "image/png": "[encoded data removed]",
      "text/plain": [
       "<Figure size 864x576 with 1 Axes>"
      ]
     },
     "metadata": {
      "needs_background": "light"
     },
     "output_type": "display_data"
    }
   ],
   "source": [
    "%matplotlib inline\n",
    "\n",
    "# dissimilarity between share bike and public transport\n",
    "dissimilarity = 0.5\n",
    "nested_logit_experiment_overall(dissimilarity)"
   ]
  }
 ],
 "metadata": {
  "anaconda-cloud": {},
  "kernelspec": {
   "display_name": "Python [default]",
   "language": "python",
   "name": "python3"
  },
  "language_info": {
   "codemirror_mode": {
    "name": "ipython",
    "version": 3
   },
   "file_extension": ".py",
   "mimetype": "text/x-python",
   "name": "python",
   "nbconvert_exporter": "python",
   "pygments_lexer": "ipython3",
   "version": "3.5.4"
  }
 },
 "nbformat": 4,
 "nbformat_minor": 2
}
