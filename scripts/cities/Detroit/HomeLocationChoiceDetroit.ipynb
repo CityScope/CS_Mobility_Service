{
 "cells": [
  {
   "cell_type": "code",
   "execution_count": 1,
   "metadata": {},
   "outputs": [],
   "source": [
    "import pandas as pd\n",
    "import pylogit as pl\n",
    "import numpy as np\n",
    "import json\n",
    "import math\n",
    "import pickle\n",
    "import random\n",
    "from collections import OrderedDict\n",
    "from shapely.geometry import shape, Point\n",
    "from utilities import amenityHealthList, amenityRestaurantList, amenityEntertainmentList, amenitySchoolList, process_poi\n",
    "import time\n",
    "from os import path\n",
    "import geopandas as gpd"
   ]
  },
  {
   "cell_type": "markdown",
   "metadata": {},
   "source": [
    "## PUMS Data"
   ]
  },
  {
   "cell_type": "code",
   "execution_count": 3,
   "metadata": {},
   "outputs": [
    {
     "data": {
      "text/plain": [
       "(-90.81836909999997, -82.0132409, 41.36898389999999, 48.56593410000001)"
      ]
     },
     "execution_count": 3,
     "metadata": {},
     "output_type": "execute_result"
    },
    {
     "data": {
      "image/png": "[encoded data removed]",
      "text/plain": [
       "<Figure size 432x288 with 1 Axes>"
      ]
     },
     "metadata": {
      "needs_background": "light"
     },
     "output_type": "display_data"
    }
   ],
   "source": [
    "city='Detroit'\n",
    "state_codes={'Detroit': 'mi', 'Boston': 'ma'}\n",
    "state_fips={'Detroit': '26', 'Boston': '25'}\n",
    "NUM_ALTS=8\n",
    "sample_size=5000\n",
    "PUMAS_INCLUDED_PATH='cities/'+city+'/raw/PUMS/pumas_included.json'\n",
    "FITTED_HOME_LOC_MODEL_PATH='cities/'+city+'/models/home_loc_logit.p'\n",
    "PUMA_POP_PATH='cities/'+city+'/raw/ACS/ACS_17_1YR_B01003/population.csv'\n",
    "PUMS_HH_PATH='cities/'+city+'/raw/PUMS/csv_h'+state_codes[city]+'/ss16h'+state_codes[city]+'.csv'\n",
    "PUMS_POP_PATH='cities/'+city+'/raw/PUMS/csv_p'+state_codes[city]+'/ss16p'+state_codes[city]+'.csv'\n",
    "PUMA_SHAPE_PATH='cities/'+city+'/raw/PUMS/pumas.geojson'\n",
    "POI_PATH = 'cities/'+city+'/raw/OSM/poi.geojson'\n",
    "PUMA_TO_POW_PUMA_PATH='puma_to_pow_puma.csv'\n",
    "RENT_NORM_PATH='cities/'+city+'/models/rent_norm.json'\n",
    "\n",
    "hh=pd.read_csv(PUMS_HH_PATH)\n",
    "pop = pd.read_csv(PUMS_POP_PATH)\n",
    "hh['PUMA']=hh.apply(lambda row: str(int(row['PUMA'])).zfill(5), axis=1)\n",
    "pop['PUMA']=pop.apply(lambda row: str(int(row['PUMA'])).zfill(5), axis=1)\n",
    "pop['POWPUMA']=pop.apply(lambda row: str(int(row['POWPUMA'])).zfill(5) \n",
    "                        if not np.isnan(row['POWPUMA']) else 'NaN', axis=1)\n",
    "\n",
    "all_PUMAs=list(set(hh['PUMA']))\n",
    "pumas_included=json.load(open(PUMAS_INCLUDED_PATH))                 # For Southeast MI\n",
    "# pumas_included = all_PUMAs                                          # For the whole MI\n",
    "pumas_shape=json.load(open(PUMA_SHAPE_PATH))\n",
    "pumas_order=[f['properties']['PUMACE10'] for f in pumas_shape['features']]\n",
    "          \n",
    "puma_pop=pd.read_csv(PUMA_POP_PATH)\n",
    "puma_pop['PUMA']=puma_pop.apply(lambda row: str(row['GEO.id2'])[2:].zfill(5), axis=1)\n",
    "puma_pop=puma_pop.set_index('PUMA')\n",
    "# get the area of each PUMA\n",
    "puma_land_sqm={str(int(f['properties']['PUMACE10'])).zfill(5): f['properties']['ALAND10']\n",
    "                for f in pumas_shape['features']}\n",
    "\n",
    "mi_pd = gpd.read_file(PUMA_SHAPE_PATH)\n",
    "mi_pd['PUMA'] = mi_pd.apply(lambda row: str(int(row['PUMACE10'])).zfill(5), axis=1)\n",
    "se_mi_pd = mi_pd[mi_pd['PUMA'].isin(pumas_included)].copy()\n",
    "ax = mi_pd.plot(facecolor=\"none\", edgecolor=\"black\")  # michigan\n",
    "se_mi_pd.plot(ax=ax)           #southeast michigan\n",
    "ax.axis('off')\n"
   ]
  },
  {
   "cell_type": "markdown",
   "metadata": {},
   "source": [
    "## Identify Recent Movers and Vacant Houses     "
   ]
  },
  {
   "cell_type": "code",
   "execution_count": 4,
   "metadata": {},
   "outputs": [
    {
     "name": "stdout",
     "output_type": "stream",
     "text": [
      "Recent mover: 5745 cases.\n",
      "Vacant houses: 847 cases.\n"
     ]
    }
   ],
   "source": [
    "hh_vacant_for_rent=hh[(hh['VACS']==1) & (hh['PUMA'].isin(pumas_included))].copy()          \n",
    "hh_rented=hh[(hh['TEN']==3) & (hh['PUMA'].isin(pumas_included))].copy()                                                      \n",
    "renters_recent_move=hh_rented[hh_rented['MV']==1].copy()\n",
    "print('Recent mover: {} cases.'.format(renters_recent_move.shape[0]))\n",
    "print('Vacant houses: {} cases.'.format(hh_vacant_for_rent.shape[0]))"
   ]
  },
  {
   "cell_type": "markdown",
   "metadata": {},
   "source": [
    "## Calculate Home-Workplace Distance"
   ]
  },
  {
   "cell_type": "code",
   "execution_count": 5,
   "metadata": {},
   "outputs": [
    {
     "name": "stdout",
     "output_type": "stream",
     "text": [
      "from puma=02905 to pow_puma=00800: 210984.29319671384\n",
      "from puma=02905 to pow_puma=01100: 174324.8101466265\n",
      "from puma=02905 to pow_puma=01700: 58213.554826038155\n",
      "......\n",
      "from puma=03206 to pow_puma=00800: 246992.38659815423\n",
      "from puma=03206 to pow_puma=01100: 220309.78069879994\n",
      "from puma=03206 to pow_puma=01700: 106963.96538439141\n",
      "......\n",
      "from puma=01004 to pow_puma=00800: 43903.472767123\n",
      "from puma=01004 to pow_puma=01100: 42951.269334498145\n",
      "from puma=01004 to pow_puma=01700: 152468.8785364652\n",
      "......\n"
     ]
    }
   ],
   "source": [
    "def get_haversine_distance(point_1, point_2):\n",
    "    \"\"\"\n",
    "    Calculate the distance between any 2 points on earth given as [lon, lat]\n",
    "    \"\"\"\n",
    "    # convert decimal degrees to radians\n",
    "    lon1, lat1, lon2, lat2 = map(math.radians, [point_1[0], point_1[1], \n",
    "                                                point_2[0], point_2[1]])\n",
    "    # haversine formula \n",
    "    dlon = lon2 - lon1 \n",
    "    dlat = lat2 - lat1 \n",
    "    a = math.sin(dlat/2)**2 + math.cos(lat1) * math.cos(lat2) * math.sin(dlon/2)**2\n",
    "    c = 2 * math.asin(math.sqrt(a)) \n",
    "    r = 6371000 # Radius of earth in kilometers. Use 3956 for miles\n",
    "    return c * r\n",
    "\n",
    "# =============================================================================\n",
    "# Distance Matrix\n",
    "# =============================================================================\n",
    "# get the distance between each puma and each pow-puma\n",
    "# first get a lookup between pow-pumas and pumas\n",
    "# because we only have the shapes of the PUMAS\n",
    "pow_puma_df=pd.read_csv(PUMA_TO_POW_PUMA_PATH, skiprows=1, header=1)\n",
    "pow_puma_df_state=pow_puma_df.loc[pow_puma_df[\n",
    "        'State of Residence (ST)']==state_fips[city]].copy()\n",
    "pow_puma_df_state['POW_PUMA']=pow_puma_df_state.apply(\n",
    "        lambda row: str(int(row['PWPUMA00 or MIGPUMA1'])).zfill(5), axis=1)\n",
    "pow_puma_df_state['PUMA']=pow_puma_df_state.apply(\n",
    "        lambda row: str(int(row['PUMA'])).zfill(5), axis=1)\n",
    "all_pow_pumas=set(pow_puma_df_state['POW_PUMA'])\n",
    "pow_puma_to_puma={}\n",
    "for p in all_pow_pumas:\n",
    "    pow_puma_to_puma[p]=list(pow_puma_df_state.loc[\n",
    "            pow_puma_df_state['POW_PUMA']==p, 'PUMA'].values)\n",
    "\n",
    "# find the centroid of each puma\n",
    "puma_centroids={}\n",
    "pow_puma_centroids={}\n",
    "for puma in set(pow_puma_df_state['PUMA']):\n",
    "    centr=shape(pumas_shape['features'][pumas_order.index(puma)]['geometry']).centroid\n",
    "    puma_centroids[puma]=[centr.x, centr.y]\n",
    "    \n",
    "# and each pow-puma\n",
    "all_pow_pumas=set(pow_puma_df_state['POW_PUMA'])\n",
    "\n",
    "for pow_puma in all_pow_pumas:\n",
    "    pumas=pow_puma_to_puma[pow_puma]\n",
    "    puma_centr=[puma_centroids[puma] for puma in pumas]\n",
    "    # TODO, shold be weighted by area- ok if similar size\n",
    "    pow_puma_centroids[pow_puma]=[np.mean([pc[0] for pc in puma_centr]),\n",
    "                                  np.mean([pc[1] for pc in puma_centr])]\n",
    "dist_mat={}\n",
    "for puma in puma_centroids:\n",
    "    dist_mat[puma]={}\n",
    "    for pow_puma in pow_puma_centroids:\n",
    "        dist = get_haversine_distance(\n",
    "                puma_centroids[puma], pow_puma_centroids[pow_puma])\n",
    "        if dist > 0:\n",
    "            dist_mat[puma][pow_puma] = dist\n",
    "        else:\n",
    "            dist_mat[puma][pow_puma] = np.sqrt(puma_land_sqm[puma] / np.pi) # set inner distance to quasi-radius\n",
    "\n",
    "for puma in list(dist_mat.keys())[:3]:\n",
    "    for pow_puma in list(dist_mat[puma].keys())[:3]:\n",
    "        print('from puma={} to pow_puma={}: {}'.format(puma, pow_puma, dist_mat[puma][pow_puma]))\n",
    "    print('......')"
   ]
  },
  {
   "cell_type": "markdown",
   "metadata": {},
   "source": [
    "## Calculate Amenity Density"
   ]
  },
  {
   "cell_type": "code",
   "execution_count": 6,
   "metadata": {},
   "outputs": [
    {
     "name": "stdout",
     "output_type": "stream",
     "text": [
      "\n",
      "[info] Processing POIs...\n",
      "\n",
      "[info] Extracting \"entertainment\" from \"poi.geojson\"\n",
      "[info] Spatial joining \"entertainment\" to \"pumas.geojson\"\n"
     ]
    }
   ],
   "source": [
    "# =============================================================================\n",
    "# Amenity Density\n",
    "# =============================================================================\n",
    "# a poiConfigure is a dict indicating how different kinds of POIs are extracted and summarized. \n",
    "# Each key of poiConfigure is one category of POIs to be finally summarized, \n",
    "# its value is a dict as extracting rules indicating which OSM points would be categorized as this kind of POI.\n",
    "# The keys of these extracting rules are OSM keys, and values are lists of OSM values to be extracted,\n",
    "# an empty list indicates all OSM values under that OSM key will be extracted.\n",
    "poiConfigure = {\n",
    "    'entertainment': {'amenity': amenityEntertainmentList + amenityRestaurantList,\n",
    "            'leisure': [],\n",
    "            'shop':[]\n",
    "    },\n",
    "}\n",
    "print('\\n[info] Processing POIs...')\n",
    "PUMAsJointPOIsData = process_poi(POI_PATH, PUMA_SHAPE_PATH, poiConfigure)\n",
    "poiFields = [x+'_den' for x in poiConfigure]\n",
    "puma_poi_dict = {str(int(x['properties']['PUMACE10'])).zfill(5):x['properties'] for x in PUMAsJointPOIsData['features']}"
   ]
  },
  {
   "cell_type": "markdown",
   "metadata": {},
   "source": [
    "## Data Preparing"
   ]
  },
  {
   "cell_type": "markdown",
   "metadata": {},
   "source": [
    "### Housing unit level: norm rent, number of rooms, built year, income, number of persons"
   ]
  },
  {
   "cell_type": "markdown",
   "metadata": {},
   "source": [
    "### PUMA level: median income, median norm rent, population density, number of available housing units"
   ]
  },
  {
   "cell_type": "code",
   "execution_count": 7,
   "metadata": {},
   "outputs": [],
   "source": [
    "# build the PUMA aggregate data data frame\n",
    "median_income_by_puma=hh.groupby('PUMA')['HINCP'].median()\n",
    "#TODO: get more zonal attributes such as access to employment, amenities etc.\n",
    "\n",
    "puma_obj=[{'PUMA':puma,\n",
    "           'med_income':median_income_by_puma.loc[puma],\n",
    "           'puma_pop_per_sqm':float(puma_pop.loc[puma]['HD01_VD01'])/puma_land_sqm[puma]\n",
    "           } for puma in pumas_included]\n",
    "puma_attr_df=pd.DataFrame(puma_obj)\n",
    "for poiField in poiFields:\n",
    "    puma_attr_df[poiField] = puma_attr_df.apply(lambda row: puma_poi_dict[row['PUMA']][poiField], axis=1)\n",
    "puma_attr_df=puma_attr_df.set_index('PUMA')\n",
    "\n",
    "# create features at property level\n",
    "# normalise rent stratifying by bedroom number\n",
    "renters_recent_move.loc[renters_recent_move['BDSP']>2, 'BDSP']=3            # change [the number of bedroom] >2 to 3\n",
    "renters_recent_move.loc[renters_recent_move['BDSP']<1, 'BDSP']=1            # change [the number of bedroom] <1 to 1\n",
    "hh_vacant_for_rent.loc[hh_vacant_for_rent['BDSP']>2, 'BDSP']=3          \n",
    "hh_vacant_for_rent.loc[hh_vacant_for_rent['BDSP']<1, 'BDSP']=1\n",
    "rent_mean={}\n",
    "rent_std={}\n",
    "for beds in range(1,4):\n",
    "    rent_mean[beds]=renters_recent_move.loc[renters_recent_move['BDSP']==beds, 'RNTP'].mean()\n",
    "    rent_std[beds]=renters_recent_move.loc[renters_recent_move['BDSP']==beds, 'RNTP'].std()\n",
    "    \n",
    "for df in [renters_recent_move, hh_vacant_for_rent]:\n",
    "    df['norm_rent']=df.apply(\n",
    "        lambda row: (row['RNTP']-rent_mean[row['BDSP']])/rent_std[row['BDSP']], axis=1)\n",
    "    # Age of building\n",
    "    df['built_since_jan2010']=df.apply(lambda row: row['YBL']>=14, axis=1)\n",
    "    df['puma_pop_per_sqmeter']=df.apply(lambda row: puma_attr_df.loc[row['PUMA']]['puma_pop_per_sqm'], axis=1)\n",
    "    df['med_income']=df.apply(lambda row: puma_attr_df.loc[row['PUMA']]['med_income'], axis=1)  \n",
    "all_rooms_available = pd.concat([hh_vacant_for_rent, renters_recent_move], axis=0) \n",
    "median_norm_rent = all_rooms_available.groupby('PUMA')['norm_rent'].median()\n",
    "puma_attr_df['media_norm_rent'] =  puma_attr_df.apply(lambda row: median_norm_rent[row.name], axis=1)\n",
    "\n",
    "# num of avaiable housing units in each PUMA\n",
    "num_available_houses_in_puma = hh_vacant_for_rent.groupby('PUMA')['SERIALNO'].count()\n",
    "puma_attr_df['num_houses'] = puma_attr_df.apply(lambda row: num_available_houses_in_puma[row.name], axis=1)\n",
    "\n",
    "renters_recent_move=renters_recent_move[['SERIALNO', 'PUMA','HINCP',  'norm_rent', 'RNTP', 'built_since_jan2010', 'puma_pop_per_sqmeter', 'med_income', 'BDSP', 'NP']]\n",
    "hh_vacant_for_rent=hh_vacant_for_rent[['PUMA', 'HINCP', 'norm_rent', 'RNTP','built_since_jan2010', 'puma_pop_per_sqmeter', 'med_income', 'BDSP']]\n",
    " \n",
    "rent_normalisation={\"mean\": rent_mean, \"std\": rent_std}   "
   ]
  },
  {
   "cell_type": "markdown",
   "metadata": {},
   "source": [
    "## 2-stage Logit Model"
   ]
  },
  {
   "attachments": {},
   "cell_type": "markdown",
   "metadata": {},
   "source": [
    "reference: Modeling the Choice of Residential Location and Home Type: Recent Movers in Austin, Texas"
   ]
  },
  {
   "cell_type": "markdown",
   "metadata": {},
   "source": [
    "![title](2-stage.png)"
   ]
  },
  {
   "cell_type": "markdown",
   "metadata": {},
   "source": [
    "## 1st Stage (PUMA Level) Data Preparation"
   ]
  },
  {
   "cell_type": "code",
   "execution_count": 10,
   "metadata": {},
   "outputs": [
    {
     "name": "stdout",
     "output_type": "stream",
     "text": [
      "[info] Preparing long data for PUMA-level choice.\n",
      "[info] Long data for PUMA-level choice finished. Elapsed time: 112.41253089904785 seconds\n",
      "       med_income  puma_pop_per_sqm  entertainment_den  media_norm_rent  \\\n",
      "PUMA                                                                      \n",
      "02701     80000.0          0.000076       1.223543e-07         0.077615   \n",
      "02702     59250.0          0.001609       1.079262e-05         0.674951   \n",
      "02703     54000.0          0.000463       7.162070e-07        -0.071435   \n",
      "02800     76000.0          0.000130       1.065799e-07        -0.101939   \n",
      "02901     76300.0          0.000190       2.598215e-07        -0.134548   \n",
      "\n",
      "       num_houses  custom_id choice_id  choice  hh_income     work_dist  \\\n",
      "PUMA                                                                      \n",
      "02701           2         51     02701     0.0    60000.0  85347.290613   \n",
      "02702          17         51     02702     0.0    60000.0  73017.119325   \n",
      "02703          27         51     02703     0.0    60000.0  68182.647115   \n",
      "02800          11         51     02800     0.0    60000.0  78047.555422   \n",
      "02901           4         51     02901     0.0    60000.0  51602.267814   \n",
      "\n",
      "       income_disparity  \n",
      "PUMA                     \n",
      "02701           20000.0  \n",
      "02702             750.0  \n",
      "02703            6000.0  \n",
      "02800           16000.0  \n",
      "02901           16300.0  \n"
     ]
    }
   ],
   "source": [
    "# =============================================================================\n",
    "# Model Estimation\n",
    "# First stage: choice model on PUMA level\n",
    "# =============================================================================\n",
    "long_data_PUMA = pd.DataFrame()\n",
    "print('[info] Preparing long data for PUMA-level choice.')\n",
    "time1 = time.time()\n",
    "numPUMAs = puma_attr_df.shape[0]\n",
    "ind = 0\n",
    "for ind_actual, row_actual in renters_recent_move.iterrows():\n",
    "    if ind >= sample_size:\n",
    "        break\n",
    "    householdID = row_actual['SERIALNO']\n",
    "    places_of_work = set(pop.loc[pop['SERIALNO']==householdID, 'POWPUMA'])\n",
    "    places_of_work = [x for x in places_of_work if x in all_pow_pumas]\n",
    "    if len(places_of_work):\n",
    "        this_sample_puma_attr_df = puma_attr_df.copy()\n",
    "        this_sample_puma_attr_df['custom_id'] = ind_actual * np.ones(numPUMAs, dtype=np.int8)\n",
    "        this_sample_puma_attr_df['choice_id'] = list(puma_attr_df.index)\n",
    "        this_sample_puma_attr_df['choice'] = np.zeros(numPUMAs)\n",
    "        this_sample_puma_attr_df['hh_income'] = row_actual['HINCP']\n",
    "        this_sample_puma_attr_df.loc[this_sample_puma_attr_df['choice_id']==row_actual['PUMA'], 'choice'] = 1\n",
    "        this_sample_puma_attr_df['work_dist'] = [np.mean([dist_mat[puma][pow_puma] \n",
    "                                              for pow_puma in places_of_work]) for puma in list(puma_attr_df.index)]\n",
    "        long_data_PUMA = pd.concat([long_data_PUMA, this_sample_puma_attr_df], axis=0)\n",
    "        ind += 1\n",
    "\n",
    "long_data_PUMA['income_disparity']=long_data_PUMA.apply(lambda row: np.abs(row['hh_income']-row['med_income']), axis=1)\n",
    "time2 = time.time()\n",
    "print('[info] Long data for PUMA-level choice finished. Elapsed time: {} seconds'.format(time2-time1))\n",
    "long_data_PUMA.to_csv('cities/'+city+'/clean/logit_data_long_form/logit_data_PUMA.csv', index=False)\n",
    "print(long_data_PUMA.head())"
   ]
  },
  {
   "cell_type": "markdown",
   "metadata": {},
   "source": [
    "## 1st Stage (PUMA Level) Model Estimation"
   ]
  },
  {
   "cell_type": "code",
   "execution_count": 12,
   "metadata": {},
   "outputs": [
    {
     "name": "stderr",
     "output_type": "stream",
     "text": [
      "C:\\Users\\wangc\\Anaconda3\\lib\\site-packages\\pylogit\\choice_tools.py:703: FutureWarning: arrays to stack must be passed as a \"sequence\" type such as list or tuple. Support for non-sequence iterables such as generators is deprecated as of NumPy 1.16 and will raise an error in the future.\n",
      "  design_matrix = np.hstack((x[:, None] for x in independent_vars))\n"
     ]
    },
    {
     "name": "stdout",
     "output_type": "stream",
     "text": [
      "[info] Fitting Upper Level Model\n",
      "Log-likelihood at zero: -14,527.9889\n",
      "Initial Log-likelihood: -14,527.9889\n"
     ]
    },
    {
     "name": "stderr",
     "output_type": "stream",
     "text": [
      "C:\\Users\\wangc\\Anaconda3\\lib\\site-packages\\scipy\\optimize\\_minimize.py:506: RuntimeWarning: Method BFGS does not use Hessian information (hess).\n",
      "  RuntimeWarning)\n"
     ]
    },
    {
     "name": "stdout",
     "output_type": "stream",
     "text": [
      "Estimation Time for Point Estimation: 3.04 seconds.\n",
      "Final log-likelihood: -11,243.8031\n"
     ]
    },
    {
     "name": "stderr",
     "output_type": "stream",
     "text": [
      "C:\\Users\\wangc\\Anaconda3\\lib\\site-packages\\scipy\\optimize\\_minimize.py:506: RuntimeWarning: Method BFGS does not use Hessian information (hess).\n",
      "  RuntimeWarning)\n"
     ]
    },
    {
     "name": "stdout",
     "output_type": "stream",
     "text": [
      "\n",
      "Logit model parameters:\n",
      "---------------------------\n",
      "puma_pop_per_sqm: -647.778225\n",
      "income_disparity: -0.000019\n",
      "work_dist: -0.000085\n",
      "media_norm_rent: -0.179001\n",
      "num_houses: 0.001534\n",
      "entertainment_den: 117193.997910\n"
     ]
    }
   ],
   "source": [
    "choiceModelPUMA_spec = OrderedDict()\n",
    "choiceModelPUMA_names = OrderedDict()\n",
    "choiceModelPUMAsRegressors = ['puma_pop_per_sqm', 'income_disparity', 'work_dist', 'media_norm_rent', 'num_houses'] + [x for x in list(long_data_PUMA.columns) if x.endswith('_den')]\n",
    "for var in choiceModelPUMAsRegressors:\n",
    "    choiceModelPUMA_spec[var] = [list(set(long_data_PUMA['choice_id']))]\n",
    "    choiceModelPUMA_names[var] = [var]\n",
    "    \n",
    "home_loc_mnl_PUMAs = pl.create_choice_model(data=long_data_PUMA,\n",
    "                                        alt_id_col='choice_id',\n",
    "                                        obs_id_col='custom_id',\n",
    "                                        choice_col='choice',\n",
    "                                        specification=choiceModelPUMA_spec,\n",
    "                                        model_type=\"MNL\",\n",
    "                                        names=choiceModelPUMA_names)\n",
    "print('[info] Fitting Upper Level Model')\n",
    "numCoef=sum([len(choiceModelPUMA_spec[s]) for s in choiceModelPUMA_spec])\n",
    "# pylogit may encounter memory error in calculating Hessiann matrix for S.E. in this model, if so, switch to noHessian approach and only do point estimation.\n",
    "try:\n",
    "    home_loc_mnl_PUMAs.fit_mle(np.zeros(numCoef))\n",
    "    print(home_loc_mnl_PUMAs.get_statsmodels_summary())\n",
    "except:\n",
    "    home_loc_mnl_PUMAs_result = home_loc_mnl_PUMAs.fit_mle(np.zeros(numCoef), just_point=True)\n",
    "    params = home_loc_mnl_PUMAs_result['x']\n",
    "    print('\\nLogit model parameters:\\n---------------------------')\n",
    "    for varname, para in zip(home_loc_mnl_PUMAs.ind_var_names, params):\n",
    "        print('{}: {:4.6f}'.format(varname, para))"
   ]
  },
  {
   "cell_type": "markdown",
   "metadata": {},
   "source": [
    "## 2nd Stage (Housing Units Level) Data Preparation"
   ]
  },
  {
   "cell_type": "code",
   "execution_count": 14,
   "metadata": {},
   "outputs": [
    {
     "name": "stdout",
     "output_type": "stream",
     "text": [
      "[info] Preparing long data for HH-level choice.\n",
      "\n",
      "[info] Long data for HH-level choice finished. Elapsed time: 54.30593538284302 seconds\n",
      "\n",
      "   bedrooms  built_since_jan2010  choice  choice_id  custom_id  hh_income  \\\n",
      "0       3.0                    0       1          1          0    60000.0   \n",
      "1       3.0                    0       0          2          0    60000.0   \n",
      "2       1.0                    0       0          3          0    60000.0   \n",
      "3       1.0                    0       0          4          0    60000.0   \n",
      "4       3.0                    0       0          5          0    60000.0   \n",
      "\n",
      "   nPersons  norm_rent   puma    rent  income_norm_rent  income_bedrooms  \\\n",
      "0         4  -0.101939  03100   900.0      -6116.319698         180000.0   \n",
      "1         4   0.101110  03100  1000.0       6066.605271         180000.0   \n",
      "2         4  -0.234912  03100   620.0     -14094.725274          60000.0   \n",
      "3         4   1.650253  03100  1400.0      99015.171217          60000.0   \n",
      "4         4  -0.101939  03100   900.0      -6116.319698         180000.0   \n",
      "\n",
      "   nPerson_bedrooms  \n",
      "0              12.0  \n",
      "1              12.0  \n",
      "2               4.0  \n",
      "3               4.0  \n",
      "4              12.0  \n"
     ]
    }
   ],
   "source": [
    "# =============================================================================\n",
    "# Model Estimation\n",
    "# Second stage: choice model on HH level\n",
    "# =============================================================================\n",
    "random.seed(1)\n",
    "print('[info] Preparing long data for HH-level choice.')\n",
    "long_data_hh_obj = []\n",
    "ind=0\n",
    "time1 = time.time()\n",
    "for ind_actual, row_actual in renters_recent_move.iterrows():\n",
    "    if ind >= sample_size:\n",
    "        break\n",
    "    cid=1\n",
    "    householdID = row_actual['SERIALNO']\n",
    "    thisPUMA = row_actual['PUMA']\n",
    "    places_of_work = set(pop.loc[pop['SERIALNO']==householdID, 'POWPUMA'])\n",
    "    places_of_work = [x for x in places_of_work if x in all_pow_pumas]\n",
    "    \n",
    "    if len(places_of_work):\n",
    "        # this is the real choice\n",
    "        choiceObs={'custom_id':ind, # identify the individual\n",
    "                   'choice_id':cid, # fake choice identifier- shouldn't matter if no ASC\n",
    "                   'choice':1,\n",
    "                   'rent':row_actual['RNTP'],\n",
    "                   'norm_rent':row_actual['norm_rent'],\n",
    "                   'puma':row_actual['PUMA'],\n",
    "                   'built_since_jan2010':int(row_actual['built_since_jan2010']),\n",
    "                   'bedrooms': row_actual['BDSP'],\n",
    "                   'hh_income':row_actual['HINCP'],\n",
    "                   'nPersons':row_actual['NP']\n",
    "                   }\n",
    "\n",
    "        cid+=1\n",
    "        long_data_hh_obj.append(choiceObs)\n",
    "        \n",
    "        hh_vacant_for_rent_in_this_PUMA = hh_vacant_for_rent.loc[hh_vacant_for_rent['PUMA']==thisPUMA].copy()\n",
    "        \n",
    "        for i in range(NUM_ALTS):\n",
    "            selected=random.choice(range(len(hh_vacant_for_rent_in_this_PUMA)))\n",
    "            alt_obs={'custom_id':ind,# identify the individual\n",
    "                     'choice_id':cid, # fake choice identifier- shouldn't matter if no ASC\n",
    "                     'choice':0,\n",
    "                     'rent':hh_vacant_for_rent_in_this_PUMA.iloc[selected]['RNTP'],\n",
    "                     'norm_rent':hh_vacant_for_rent_in_this_PUMA.iloc[selected]['norm_rent'],\n",
    "                     'puma':hh_vacant_for_rent_in_this_PUMA.iloc[selected]['PUMA'],\n",
    "                     'built_since_jan2010':int(hh_vacant_for_rent_in_this_PUMA.iloc[selected]['built_since_jan2010']),\n",
    "                     'bedrooms': hh_vacant_for_rent_in_this_PUMA.iloc[selected]['BDSP'],\n",
    "                     'hh_income':row_actual['HINCP'],\n",
    "                     'nPersons':row_actual['NP']\n",
    "                     }\n",
    "            cid+=1\n",
    "            long_data_hh_obj.append(alt_obs)\n",
    "        ind+=1\n",
    "\n",
    "long_data_hh=pd.DataFrame(long_data_hh_obj)  \n",
    "long_data_hh['income_norm_rent'] = long_data_hh['hh_income'] * long_data_hh['norm_rent']\n",
    "long_data_hh['income_bedrooms'] = long_data_hh['hh_income'] * long_data_hh['bedrooms']\n",
    "long_data_hh['nPerson_bedrooms'] = long_data_hh['nPersons'] * long_data_hh['bedrooms']\n",
    "time2 = time.time()\n",
    "print('\\n[info] Long data for HH-level choice finished. Elapsed time: {} seconds\\n'.format(time2-time1))\n",
    "long_data_hh.to_csv('cities/'+city+'/clean/logit_data_long_form/logit_data_hh.csv', index=False)\n",
    "print(long_data_hh.head())"
   ]
  },
  {
   "cell_type": "markdown",
   "metadata": {},
   "source": [
    "## 2nd Stage (Housing Units Level) Model Estimation"
   ]
  },
  {
   "cell_type": "code",
   "execution_count": 15,
   "metadata": {},
   "outputs": [
    {
     "name": "stderr",
     "output_type": "stream",
     "text": [
      "C:\\Users\\wangc\\Anaconda3\\lib\\site-packages\\pylogit\\choice_tools.py:703: FutureWarning: arrays to stack must be passed as a \"sequence\" type such as list or tuple. Support for non-sequence iterables such as generators is deprecated as of NumPy 1.16 and will raise an error in the future.\n",
      "  design_matrix = np.hstack((x[:, None] for x in independent_vars))\n"
     ]
    },
    {
     "name": "stdout",
     "output_type": "stream",
     "text": [
      "[info] Fitting Model\n",
      "Log-likelihood at zero: -9,129.4681\n",
      "Initial Log-likelihood: -9,129.4681\n"
     ]
    },
    {
     "name": "stderr",
     "output_type": "stream",
     "text": [
      "C:\\Users\\wangc\\Anaconda3\\lib\\site-packages\\scipy\\optimize\\_minimize.py:506: RuntimeWarning: Method BFGS does not use Hessian information (hess).\n",
      "  RuntimeWarning)\n"
     ]
    },
    {
     "name": "stdout",
     "output_type": "stream",
     "text": [
      "Estimation Time for Point Estimation: 0.16 seconds.\n",
      "Final log-likelihood: -8,301.5714\n",
      "                     Multinomial Logit Model Regression Results                    \n",
      "===================================================================================\n",
      "Dep. Variable:                      choice   No. Observations:                4,155\n",
      "Model:             Multinomial Logit Model   Df Residuals:                    4,149\n",
      "Method:                                MLE   Df Model:                            6\n",
      "Date:                     Thu, 12 Sep 2019   Pseudo R-squ.:                   0.091\n",
      "Time:                             23:11:41   Pseudo R-bar-squ.:               0.090\n",
      "AIC:                            16,615.143   Log-Likelihood:             -8,301.571\n",
      "BIC:                            16,653.135   LL-Null:                    -9,129.468\n",
      "=======================================================================================\n",
      "                          coef    std err          z      P>|z|      [0.025      0.975]\n",
      "---------------------------------------------------------------------------------------\n",
      "norm_rent              -0.3155      0.030    -10.354      0.000      -0.375      -0.256\n",
      "built_since_jan2010     1.5884      0.180      8.800      0.000       1.235       1.942\n",
      "bedrooms               -1.8022      0.065    -27.576      0.000      -1.930      -1.674\n",
      "income_norm_rent     4.901e-06   3.85e-07     12.723      0.000    4.15e-06    5.66e-06\n",
      "income_bedrooms      5.575e-06   6.24e-07      8.934      0.000    4.35e-06     6.8e-06\n",
      "nPerson_bedrooms        0.7490      0.026     28.425      0.000       0.697       0.801\n",
      "=======================================================================================\n"
     ]
    }
   ],
   "source": [
    "choiceModelHH_spec = OrderedDict()\n",
    "choiceModelHH_names = OrderedDict()\n",
    "choiceModelHHRegressors = ['norm_rent', 'built_since_jan2010', 'bedrooms', 'income_norm_rent', 'income_bedrooms', 'nPerson_bedrooms']\n",
    "\n",
    "for var in choiceModelHHRegressors:\n",
    "    choiceModelHH_spec[var] = [list(set(long_data_hh['choice_id']))]\n",
    "    choiceModelHH_names[var] = [var]\n",
    "\n",
    "home_loc_mnl_hh = pl.create_choice_model(data=long_data_hh,\n",
    "                                        alt_id_col='choice_id',\n",
    "                                        obs_id_col='custom_id',\n",
    "                                        choice_col='choice',\n",
    "                                        specification=choiceModelHH_spec,\n",
    "                                        model_type=\"MNL\",\n",
    "                                        names=choiceModelHH_names)\n",
    "\n",
    "# Specify the initial values and method for the optimization.\n",
    "print('[info] Fitting Model')\n",
    "numCoef=sum([len(choiceModelHH_spec[s]) for s in choiceModelHH_spec])\n",
    "\n",
    "try:\n",
    "    home_loc_mnl_hh.fit_mle(np.zeros(numCoef))\n",
    "    print(home_loc_mnl_hh.get_statsmodels_summary())\n",
    "except:\n",
    "    home_loc_mnl_hh_result = home_loc_mnl_hh.fit_mle(np.zeros(numCoef), just_point=True)\n",
    "    params = home_loc_mnl_hh_result['x']\n",
    "    print('\\nLogit model parameters:\\n---------------------------')\n",
    "    for varname, para in zip(home_loc_mnl_hh_result.ind_var_names, params):\n",
    "        print('{}: {:4.6f}'.format(varname, para))\n",
    " "
   ]
  }
 ],
 "metadata": {
  "kernelspec": {
   "display_name": "Python 3",
   "language": "python",
   "name": "python3"
  },
  "language_info": {
   "codemirror_mode": {
    "name": "ipython",
    "version": 3
   },
   "file_extension": ".py",
   "mimetype": "text/x-python",
   "name": "python",
   "nbconvert_exporter": "python",
   "pygments_lexer": "ipython3",
   "version": "3.7.3"
  }
 },
 "nbformat": 4,
 "nbformat_minor": 2
}
