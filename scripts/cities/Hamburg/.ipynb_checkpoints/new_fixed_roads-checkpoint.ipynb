{
 "cells": [
  {
   "cell_type": "code",
   "execution_count": 2,
   "metadata": {
    "collapsed": true
   },
   "outputs": [],
   "source": [
    "from ipyleaflet import Map, Polyline, basemaps, basemap_to_tiles, Circle, Marker\n",
    "%matplotlib inline"
   ]
  },
  {
   "cell_type": "code",
   "execution_count": 3,
   "metadata": {
    "collapsed": true
   },
   "outputs": [],
   "source": [
    "import pandas as pd\n",
    "import pickle"
   ]
  },
  {
   "cell_type": "code",
   "execution_count": 5,
   "metadata": {},
   "outputs": [],
   "source": [
    "SIM_GRAPHS_PATH='./clean/sim_area_nets.p'\n",
    "graphs=pickle.load(open(SIM_GRAPHS_PATH, 'rb'))"
   ]
  },
  {
   "cell_type": "code",
   "execution_count": 22,
   "metadata": {},
   "outputs": [],
   "source": [
    "mode='driving'\n",
    "\n",
    "lines=[]\n",
    "for edge_ind, edge_row in graphs[mode]['edges'].iterrows():\n",
    "    line=[]\n",
    "    node_id=int(edge_row['from_node_id'])\n",
    "    line.append(list(graphs[mode]['nodes'].iloc[node_id][['y', 'x']]))\n",
    "    node_id=int(edge_row['to_node_id'])\n",
    "    line.append(list(graphs[mode]['nodes'].iloc[node_id][['y', 'x']]))\n",
    "    lines.append(line)"
   ]
  },
  {
   "cell_type": "code",
   "execution_count": 28,
   "metadata": {},
   "outputs": [
    {
     "data": {
      "application/vnd.jupyter.widget-view+json": {
       "model_id": "9b5cb5adcd214adca3009840f619cac3",
       "version_major": 2,
       "version_minor": 0
      },
      "text/plain": [
       "Map(basemap={'url': 'https://{s}.tile.openstreetmap.org/{z}/{x}/{y}.png', 'attribution': 'Map data (c) <a href…"
      ]
     },
     "metadata": {},
     "output_type": "display_data"
    }
   ],
   "source": [
    "m = Map(center = (53.5315696, 10.0207825), zoom =12, layers=[basemap_to_tiles(basemaps.CartoDB.DarkMatter)])\n",
    "map_polyline = Polyline(\n",
    "        locations = lines,\n",
    "        weight=2,\n",
    "        opacity=1,\n",
    "        color = 'red',\n",
    "        fill=False\n",
    "    )\n",
    "m.add_layer(map_polyline)\n",
    "m"
   ]
  },
  {
   "cell_type": "code",
   "execution_count": null,
   "metadata": {
    "collapsed": true
   },
   "outputs": [],
   "source": []
  }
 ],
 "metadata": {
  "anaconda-cloud": {},
  "kernelspec": {
   "display_name": "Python [conda env:anaconda]",
   "language": "python",
   "name": "conda-env-anaconda-py"
  },
  "language_info": {
   "codemirror_mode": {
    "name": "ipython",
    "version": 3
   },
   "file_extension": ".py",
   "mimetype": "text/x-python",
   "name": "python",
   "nbconvert_exporter": "python",
   "pygments_lexer": "ipython3",
   "version": "3.5.4"
  }
 },
 "nbformat": 4,
 "nbformat_minor": 2
}
