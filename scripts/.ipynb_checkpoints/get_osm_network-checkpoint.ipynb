{
 "cells": [
  {
   "cell_type": "code",
   "execution_count": 4,
   "metadata": {},
   "outputs": [],
   "source": [
    "import matplotlib.pyplot as plt\n",
    "import xml.etree.ElementTree as et\n",
    "import pandas as pd\n",
    "import urllib.request\n",
    "from shapely.geometry import Point, shape\n",
    "import json"
   ]
  },
  {
   "cell_type": "code",
   "execution_count": 7,
   "metadata": {},
   "outputs": [],
   "source": [
    "city='Hamburg'\n",
    "SIM_AREA_PATH='./cities/'+city+'/clean/table_area.geojson'\n",
    "SIM_NETWORK_PATH_ROOT='./cities/'+city+'/clean/'\n",
    "\n",
    "sim_area=json.load(open(SIM_AREA_PATH))\n",
    "\n",
    "full_area=[shape(f['geometry']) for f in sim_area['features']]\n",
    "bounds=[shp.bounds for shp in full_area]\n",
    "boundsAll=[min([b[0] for b in bounds]), #W\n",
    "               min([b[1] for b in bounds]), #S\n",
    "               max([b[2] for b in bounds]), #E\n",
    "               max([b[3] for b in bounds])] #N"
   ]
  },
  {
   "cell_type": "code",
   "execution_count": 11,
   "metadata": {},
   "outputs": [],
   "source": [
    "query='http://api.openstreetmap.org/api/0.6/map?bbox='+','.join([str(b) for b in boundsAll])\n",
    "file = urllib.request.urlopen(query)\n",
    "xData=et.parse(file)\n",
    "file.close()\n",
    "\n",
    "root=xData.getroot()\n",
    "root.tag\n",
    "\n",
    "nodeLat=[]\n",
    "nodeLong=[]\n",
    "nodeId=[]\n",
    "aNodes=[]\n",
    "bNodes=[]\n",
    "hwTags=[]\n",
    "names=[]\n",
    "oneway=[]\n",
    "ref=[]\n",
    "maxspeed=[]\n",
    "osmid=[]\n",
    "\n",
    "for child in root:\n",
    "    if child.tag=='node':\n",
    "        nodeLat.extend([child.get('lat')])\n",
    "        nodeLong.extend([child.get('lon')])\n",
    "        nodeId.extend([child.get('id')])\n",
    "    elif child.tag=='way':\n",
    "        highwayTag, name, oneW, re, mSp=[], [], [], [], []\n",
    "        for t in child.findall('tag'):\n",
    "            key=t.get('k')\n",
    "            if key=='highway':\n",
    "                value=t.get('v')\n",
    "                highwayTag.extend([value])\n",
    "        #now confirmed if the child is a way: if so, loop through the tags again and save them\n",
    "        if any(highwayTag):\n",
    "            for t in child.findall('tag'):\n",
    "                if t.get('k')=='name':\n",
    "                    name=t.get('v')\n",
    "                if t.get('k')=='oneway':\n",
    "                    oneW=t.get('v')\n",
    "                if t.get('k')=='ref':\n",
    "                    re=t.get('v')\n",
    "                if t.get('k')=='maxspeed':\n",
    "                    mSp=t.get('v')\n",
    "            first=1\n",
    "            for gChild in child:\n",
    "                if gChild.tag=='nd':\n",
    "                    if first==1:\n",
    "                        #aNodes.extend([gChild.get('ref')])\n",
    "                        lastNode=gChild.get('ref')\n",
    "                    else:\n",
    "                        aNodes.extend([lastNode])\n",
    "                        lastNode=gChild.get('ref')\n",
    "                        bNodes.extend([lastNode])\n",
    "                        hwTags.extend([highwayTag])\n",
    "                        names.extend([name])\n",
    "                        oneway.extend([oneW])\n",
    "                        ref.extend([re])\n",
    "                        maxspeed.extend([mSp])\n",
    "                        osmid.extend([list(child.getiterator())[0].attrib['id']])\n",
    "                    first=0"
   ]
  },
  {
   "cell_type": "code",
   "execution_count": 12,
   "metadata": {},
   "outputs": [],
   "source": [
    "latLong= [[nodeLat[i], nodeLong[i]] for i in range(len(nodeId))]\n",
    "LatLongDict = dict(zip(nodeId, latLong))\n",
    "\n",
    "aNodeLat=[LatLongDict[aNodes[i]][0] for i in range(len(aNodes))]\n",
    "aNodeLon=[LatLongDict[aNodes[i]][1] for i in range(len(aNodes))]\n",
    "bNodeLat=[LatLongDict[bNodes[i]][0] for i in range(len(bNodes))]\n",
    "bNodeLon=[LatLongDict[bNodes[i]][1] for i in range(len(bNodes))]\n",
    "\n",
    "network=pd.DataFrame({'aNodes':aNodes, 'bNodes':bNodes, \n",
    "'aNodeLat':aNodeLat, 'aNodeLon':aNodeLon,'bNodeLat':bNodeLat,'bNodeLon':bNodeLon, 'type':hwTags, \n",
    "'name':names, 'speed':maxspeed, 'ref':ref, 'osmid':osmid, 'oneway':oneway})"
   ]
  },
  {
   "cell_type": "code",
   "execution_count": 17,
   "metadata": {},
   "outputs": [],
   "source": [
    "%matplotlib inline"
   ]
  },
  {
   "cell_type": "code",
   "execution_count": 18,
   "metadata": {},
   "outputs": [],
   "source": [
    "from ipyleaflet import Map, Polyline, basemaps, basemap_to_tiles, Circle, Marker"
   ]
  },
  {
   "cell_type": "code",
   "execution_count": 19,
   "metadata": {},
   "outputs": [
    {
     "data": {
      "application/vnd.jupyter.widget-view+json": {
       "model_id": "5e2cf14287cc4bcf8bb8d62dc420e764",
       "version_major": 2,
       "version_minor": 0
      },
      "text/plain": [
       "Map(basemap={'url': 'https://{s}.tile.openstreetmap.org/{z}/{x}/{y}.png', 'max_zoom': 19, 'attribution': 'Map …"
      ]
     },
     "metadata": {},
     "output_type": "display_data"
    }
   ],
   "source": [
    "polylines=[]\n",
    "m = Map(center = (53.5315696, 10.0207825), zoom =12, layers=[basemap_to_tiles(basemaps.CartoDB.DarkMatter)])\n",
    "lines=[]\n",
    "for ind, row in network.iterrows():\n",
    "    lines.append([[float(row['aNodeLat']), float(row['aNodeLon'])], [float(row['bNodeLat']), float(row['bNodeLon'])]])\n",
    "\n",
    "lineLayer = Polyline(\n",
    "    locations = lines,\n",
    "    weight=1,\n",
    "    opacity=1,\n",
    "    color='white',\n",
    "    fill=False\n",
    ")\n",
    "m.add_layer(lineLayer)\n",
    "m"
   ]
  },
  {
   "cell_type": "code",
   "execution_count": null,
   "metadata": {
    "collapsed": true
   },
   "outputs": [],
   "source": []
  }
 ],
 "metadata": {
  "anaconda-cloud": {},
  "kernelspec": {
   "display_name": "Python 3",
   "language": "python",
   "name": "python3"
  },
  "language_info": {
   "codemirror_mode": {
    "name": "ipython",
    "version": 3
   },
   "file_extension": ".py",
   "mimetype": "text/x-python",
   "name": "python",
   "nbconvert_exporter": "python",
   "pygments_lexer": "ipython3",
   "version": "3.7.3"
  }
 },
 "nbformat": 4,
 "nbformat_minor": 2
}
