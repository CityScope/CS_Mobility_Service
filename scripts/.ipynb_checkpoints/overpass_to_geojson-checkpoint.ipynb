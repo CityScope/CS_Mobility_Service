{
 "cells": [
  {
   "cell_type": "code",
   "execution_count": 27,
   "metadata": {},
   "outputs": [],
   "source": [
    "import matplotlib.pyplot as plt\n",
    "import xml.etree.ElementTree as et\n",
    "import pandas as pd\n",
    "import urllib.request\n",
    "from shapely.geometry import Point, shape\n",
    "import json\n",
    "import math"
   ]
  },
  {
   "cell_type": "code",
   "execution_count": 44,
   "metadata": {},
   "outputs": [],
   "source": [
    "def get_haversine_distance(point_1, point_2):\n",
    "    \"\"\"\n",
    "    Calculate the distance between any 2 points on earth given as [lon, lat]\n",
    "    \"\"\"\n",
    "    # convert decimal degrees to radians\n",
    "    lon1, lat1, lon2, lat2 = map(math.radians, [point_1[0], point_1[1], \n",
    "                                                point_2[0], point_2[1]])\n",
    "    # haversine formula \n",
    "    dlon = lon2 - lon1 \n",
    "    dlat = lat2 - lat1 \n",
    "    a = math.sin(dlat/2)**2 + math.cos(lat1) * math.cos(lat2) * math.sin(dlon/2)**2\n",
    "    c = 2 * math.asin(math.sqrt(a)) \n",
    "    r = 6371000 # Radius of earth in kilometers. Use 3956 for miles\n",
    "    return c * r"
   ]
  },
  {
   "cell_type": "code",
   "execution_count": 28,
   "metadata": {},
   "outputs": [],
   "source": [
    "city='Detroit'\n",
    "SIM_AREA_PATH='./cities/'+city+'/clean/table_area.geojson'\n",
    "SIM_NETWORK_PATH_ROOT='./cities/'+city+'/clean/'\n",
    "FW_PATH='./cities/'+city+'/clean/fw_result'\n",
    "\n",
    "sim_area=json.load(open(SIM_AREA_PATH))\n",
    "\n",
    "full_area=[shape(f['geometry']) for f in sim_area['features']]\n",
    "bounds=[shp.bounds for shp in full_area]\n",
    "boundsAll=[min([b[0] for b in bounds]), #W\n",
    "               min([b[1] for b in bounds]), #S\n",
    "               max([b[2] for b in bounds]), #E\n",
    "               max([b[3] for b in bounds])] #N"
   ]
  },
  {
   "cell_type": "code",
   "execution_count": 29,
   "metadata": {},
   "outputs": [],
   "source": [
    "overpass_node_query='https://lz4.overpass-api.de/api/interpreter?data=[out:json][bbox];node;out;&bbox='+','.join([str(b) for b in boundsAll])\n",
    "overpass_way_query='https://lz4.overpass-api.de/api/interpreter?data=[out:json][bbox];way;out;&bbox='+','.join([str(b) for b in boundsAll])\n",
    "\n",
    "with urllib.request.urlopen(overpass_node_query) as url:\n",
    "    overpass_nodes=json.loads(url.read().decode())\n",
    "with urllib.request.urlopen(overpass_way_query) as url:\n",
    "    overpass_ways=json.loads(url.read().decode())"
   ]
  },
  {
   "cell_type": "code",
   "execution_count": 30,
   "metadata": {},
   "outputs": [],
   "source": [
    "nodes=overpass_nodes['elements']"
   ]
  },
  {
   "cell_type": "code",
   "execution_count": 31,
   "metadata": {},
   "outputs": [],
   "source": [
    "hw_ways=[]\n",
    "for way in overpass_ways['elements']:\n",
    "    if 'tags' in way:\n",
    "        if 'highway' in way['tags']:\n",
    "            hw_ways.append(way)"
   ]
  },
  {
   "cell_type": "code",
   "execution_count": 32,
   "metadata": {},
   "outputs": [
    {
     "data": {
      "text/plain": [
       "{'cycleway',\n",
       " 'footway',\n",
       " 'motorway',\n",
       " 'motorway_link',\n",
       " 'path',\n",
       " 'pedestrian',\n",
       " 'primary',\n",
       " 'primary_link',\n",
       " 'proposed',\n",
       " 'residential',\n",
       " 'secondary',\n",
       " 'secondary_link',\n",
       " 'service',\n",
       " 'tertiary',\n",
       " 'track',\n",
       " 'trunk_link',\n",
       " 'unclassified'}"
      ]
     },
     "execution_count": 32,
     "metadata": {},
     "output_type": "execute_result"
    }
   ],
   "source": [
    "edges_types=set([way['tags']['highway'] for way in hw_ways])\n",
    "edges_types"
   ]
  },
  {
   "cell_type": "code",
   "execution_count": 33,
   "metadata": {},
   "outputs": [],
   "source": [
    "drive_types=[t for t in edges_types if t not in ['footway', 'path', 'steps', 'pedestrian', 'track']]\n",
    "cycle_types=[t for t in edges_types if t not in [ 'steps']]\n",
    "pt_types=edges_types\n",
    "walk_types=edges_types"
   ]
  },
  {
   "cell_type": "code",
   "execution_count": 42,
   "metadata": {},
   "outputs": [],
   "source": [
    "def osm_to_geojson(ways, node_id_to_lon_lat, included_types, area, net_type):\n",
    "    features=[]\n",
    "    for way in ways:\n",
    "        if way['tags']['highway'] in included_types:\n",
    "            node_coords = []\n",
    "            for node_id in way['nodes']:\n",
    "                if node_id in node_id_to_lon_lat:\n",
    "                    node_coords.append(node_id_to_lon_lat[node_id])\n",
    "            in_sim_area=False\n",
    "            for nc in node_coords:\n",
    "                for feat in sim_area['features']:\n",
    "                    if shape(feat['geometry']).contains(Point(nc)):\n",
    "                        in_sim_area=True\n",
    "            if ((in_sim_area) and (len(node_coords)>1)):    \n",
    "                features.append({\"type\": \"Feature\",\n",
    "                                 \"properties\": {'edge_type': net_type},\n",
    "                                 'geometry': {\n",
    "                                         \"type\": \"LineString\",\n",
    "                                         'coordinates':node_coords},\n",
    "                                 })\n",
    "    geo= {\"type\": \"FeatureCollection\",\n",
    "            \"crs\": { \"type\": \"name\", \"properties\": { \"name\": \"epsg:4326\" } },\n",
    "            \"features\": features}\n",
    "    return geo"
   ]
  },
  {
   "cell_type": "code",
   "execution_count": 46,
   "metadata": {},
   "outputs": [],
   "source": [
    "node_id_to_lon_lat={}\n",
    "for node in nodes:\n",
    "    node_id_to_lon_lat[node['id']]=[node['lon'], node['lat']]"
   ]
  },
  {
   "cell_type": "code",
   "execution_count": 11,
   "metadata": {},
   "outputs": [],
   "source": [
    "drive_net_geo=osm_to_geojson(hw_ways, node_id_to_lon_lat, drive_types, sim_area,'driving')\n",
    "cycle_net_geo=osm_to_geojson(hw_ways, node_id_to_lon_lat, cycle_types, sim_area,'cycling')\n",
    "walk_net_geo=osm_to_geojson(hw_ways, node_id_to_lon_lat, walk_types, sim_area,'walking')\n",
    "pt_net_geo=osm_to_geojson(hw_ways, node_id_to_lon_lat, pt_types, sim_area,'pt')"
   ]
  },
  {
   "cell_type": "code",
   "execution_count": 61,
   "metadata": {},
   "outputs": [],
   "source": [
    "json.dump(drive_net_geo, open(SIM_NETWORK_PATH_ROOT+'driving_net_simple.geojson', 'w'))\n",
    "json.dump(walk_net_geo, open(SIM_NETWORK_PATH_ROOT+'walking_net_simple.geojson', 'w'))\n",
    "json.dump(pt_net_geo, open(SIM_NETWORK_PATH_ROOT+'pt_net_simple.geojson', 'w'))\n",
    "json.dump(cycle_net_geo, open(SIM_NETWORK_PATH_ROOT+'cycling_net_simple.geojson', 'w'))"
   ]
  },
  {
   "cell_type": "markdown",
   "metadata": {},
   "source": [
    "Networkx versions"
   ]
  },
  {
   "cell_type": "code",
   "execution_count": 35,
   "metadata": {},
   "outputs": [
    {
     "data": {
      "text/plain": [
       "1703"
      ]
     },
     "execution_count": 35,
     "metadata": {},
     "output_type": "execute_result"
    }
   ],
   "source": [
    "len(hw_ways)"
   ]
  },
  {
   "cell_type": "markdown",
   "metadata": {},
   "source": [
    "Add other way nodes"
   ]
  },
  {
   "cell_type": "code",
   "execution_count": 37,
   "metadata": {},
   "outputs": [
    {
     "data": {
      "text/plain": [
       "1350"
      ]
     },
     "execution_count": 37,
     "metadata": {},
     "output_type": "execute_result"
    }
   ],
   "source": [
    "new_ways=[]\n",
    "for way in hw_ways:\n",
    "    if 'oneway' in way['tags'] and way['tags']['oneway']:\n",
    "        pass\n",
    "    else:\n",
    "        new_way=way.copy()\n",
    "        new_way['nodes']=way['nodes'].copy()\n",
    "        new_way['nodes'].reverse()\n",
    "        new_ways.append(new_way)\n",
    "len(new_ways) "
   ]
  },
  {
   "cell_type": "code",
   "execution_count": 38,
   "metadata": {},
   "outputs": [
    {
     "data": {
      "text/plain": [
       "3053"
      ]
     },
     "execution_count": 38,
     "metadata": {},
     "output_type": "execute_result"
    }
   ],
   "source": [
    "hw_ways.extend(new_ways)\n",
    "len(hw_ways)"
   ]
  },
  {
   "cell_type": "markdown",
   "metadata": {},
   "source": [
    "Add distances"
   ]
  },
  {
   "cell_type": "code",
   "execution_count": 49,
   "metadata": {},
   "outputs": [],
   "source": [
    "for way in hw_ways:\n",
    "    way['nodes']=[n for n in way['nodes'] if n in node_id_to_lon_lat] # some ways may extend outside the area\n",
    "    way['node_lls']=[node_id_to_lon_lat[n] for n in way['nodes']]\n",
    "    distances=[get_haversine_distance(way['node_lls'][i], way['node_lls'][i+1]\n",
    "                                     ) for i in range(len(way['node_lls'])-1)]\n",
    "    way['distances']=distances\n",
    "    way['total_distance']=sum(way['distances'])"
   ]
  },
  {
   "cell_type": "code",
   "execution_count": 250,
   "metadata": {},
   "outputs": [],
   "source": [
    "%matplotlib inline"
   ]
  },
  {
   "cell_type": "code",
   "execution_count": 251,
   "metadata": {},
   "outputs": [],
   "source": [
    "from ipyleaflet import Map, Polyline, basemaps, basemap_to_tiles, Circle, Marker"
   ]
  },
  {
   "cell_type": "code",
   "execution_count": 255,
   "metadata": {},
   "outputs": [
    {
     "data": {
      "application/vnd.jupyter.widget-view+json": {
       "model_id": "f49e5d49d9a340048c1ecc0622dbcbce",
       "version_major": 2,
       "version_minor": 0
      },
      "text/plain": [
       "Map(basemap={'url': 'https://{s}.tile.openstreetmap.org/{z}/{x}/{y}.png', 'max_zoom': 19, 'attribution': 'Map …"
      ]
     },
     "metadata": {},
     "output_type": "display_data"
    }
   ],
   "source": [
    "m = Map(center = (hw_ways[0]['node_lls'][1], hw_ways[0]['node_lls'][0]), zoom =14, \n",
    "        layers=[basemap_to_tiles(basemaps.CartoDB.DarkMatter)])\n",
    "lines=[]\n",
    "for way in hw_ways:\n",
    "    line=[[way['node_lls'][n][1], way['node_lls'][n][0]] for n in range(len(way['node_lls']))]\n",
    "    lines.append(line)\n",
    "lineLayer = Polyline(\n",
    "    locations = lines,\n",
    "    weight=1,\n",
    "    opacity=1,\n",
    "    color='white',\n",
    "    fill=False\n",
    ")\n",
    "m.add_layer(lineLayer)\n",
    "m"
   ]
  },
  {
   "cell_type": "code",
   "execution_count": 39,
   "metadata": {},
   "outputs": [],
   "source": [
    "import networkx as nx"
   ]
  },
  {
   "cell_type": "code",
   "execution_count": 152,
   "metadata": {},
   "outputs": [],
   "source": [
    "G=nx.DiGraph()"
   ]
  },
  {
   "cell_type": "code",
   "execution_count": 153,
   "metadata": {},
   "outputs": [],
   "source": [
    "for w_ind, way in enumerate(hw_ways):\n",
    "    G.add_edge(way['nodes'][0], way['nodes'][-1], weight=way['total_distance'], attr_dict={'ind': w_ind })"
   ]
  },
  {
   "cell_type": "code",
   "execution_count": 159,
   "metadata": {},
   "outputs": [],
   "source": [
    "all_node_ids=list(G.nodes)"
   ]
  },
  {
   "cell_type": "code",
   "execution_count": 165,
   "metadata": {},
   "outputs": [],
   "source": [
    "fw_result=nx.floyd_warshall_predecessor_and_distance(G, weight='weight')"
   ]
  },
  {
   "cell_type": "code",
   "execution_count": 248,
   "metadata": {},
   "outputs": [],
   "source": [
    "def get_path_from_fw(fw_result, from_node, to_node):\n",
    "    if from_node==to_node:\n",
    "        return [],[],[]\n",
    "    pred=to_node\n",
    "    path=[pred]\n",
    "    while not pred==from_node:\n",
    "        pred=fw_result[0][from_node][pred]\n",
    "        path.insert(0,pred)\n",
    "    link_ids=[G[path[i]][path[i+1]]['attr_dict']['ind'] for i in range(len(path)-1)]\n",
    "    coords, distances =[], []\n",
    "    for l_id in link_ids:\n",
    "        coords+=hw_ways[l_id]['node_lls'][:-1] # leave out last coordinate of each segment to avoic repetition\n",
    "        distances+=hw_ways[l_id]['distances']\n",
    "    coords+= [hw_ways[link_ids[-1]]['node_lls'][-1]] # add the final coordinate of the very last segment\n",
    "    return path, coords, distances"
   ]
  },
  {
   "cell_type": "code",
   "execution_count": 236,
   "metadata": {},
   "outputs": [],
   "source": [
    "from_node, to_node=all_node_ids[100], 4608468620"
   ]
  },
  {
   "cell_type": "code",
   "execution_count": 201,
   "metadata": {},
   "outputs": [
    {
     "name": "stdout",
     "output_type": "stream",
     "text": [
      "Shortest path by num links: [62803783, 62803785, 62976222, 62759520, 62759518, 62759514, 633088909, 62759506, 62759497, 62913636, 62913637, 62913639, 62913595, 282145475, 62557238, 62811085, 4691680229, 3302514048, 4691680203, 4691680201, 4691680247, 4691680242, 4691680240, 4691680238, 4691680235, 4608468614, 4608468616, 4608468618, 4608468620]\n",
      "Shortest path by distance: [62803783, 62803785, 62614034, 333457757, 63044741, 62628367, 63044727, 62781610, 62589101, 4956715006, 62688689, 63015043, 4956715004, 62913588, 62913639, 62913595, 282145475, 62557238, 62811085, 4691680229, 3302514048, 4691680264, 4691680263, 4691680253, 4691680251, 4691680262, 4691680261, 3302514038, 3302514037, 4691680254, 4691680255, 4691680256, 4691680257, 4608468620]\n",
      "Distance of Shortest path: 1788.9870445614715\n"
     ]
    }
   ],
   "source": [
    "# using dijkstras\n",
    "print('Shortest path by num links: {}'.format(nx.shortest_path(G, from_node, to_node)))\n",
    "print('Shortest path by distance: {}'.format(nx.dijkstra_path(G, from_node, to_node, weight='weight')))\n",
    "print('Distance of Shortest path: {}'.format(nx.dijkstra_path_length(G, from_node, to_node, weight='weight')))"
   ]
  },
  {
   "cell_type": "code",
   "execution_count": 237,
   "metadata": {},
   "outputs": [],
   "source": [
    "path, coords, distances=get_path_from_fw(fw_result, from_node, to_node)"
   ]
  },
  {
   "cell_type": "code",
   "execution_count": 249,
   "metadata": {},
   "outputs": [
    {
     "name": "stdout",
     "output_type": "stream",
     "text": [
      "5.251126366605637e-05 seconds per query\n"
     ]
    }
   ],
   "source": [
    "count=0\n",
    "then=datetime.datetime.now()\n",
    "for from_node in fw_result[0]:\n",
    "    for to_node in fw_result[0][from_node]:\n",
    "        count+=1\n",
    "        path, coords, distances=get_path_from_fw(fw_result, from_node, to_node)\n",
    "now=datetime.datetime.now()\n",
    "interval=(now-then).seconds\n",
    "print('{} seconds per query'.format(interval/count))"
   ]
  },
  {
   "cell_type": "code",
   "execution_count": null,
   "metadata": {},
   "outputs": [],
   "source": [
    "json.dump(fw_result, open(FW_PATH, 'w'))"
   ]
  }
 ],
 "metadata": {
  "kernelspec": {
   "display_name": "Python 3",
   "language": "python",
   "name": "python3"
  },
  "language_info": {
   "codemirror_mode": {
    "name": "ipython",
    "version": 3
   },
   "file_extension": ".py",
   "mimetype": "text/x-python",
   "name": "python",
   "nbconvert_exporter": "python",
   "pygments_lexer": "ipython3",
   "version": "3.6.7"
  }
 },
 "nbformat": 4,
 "nbformat_minor": 2
}
