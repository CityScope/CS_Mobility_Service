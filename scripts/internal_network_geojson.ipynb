{
 "cells": [
  {
   "cell_type": "code",
   "execution_count": 1,
   "metadata": {},
   "outputs": [],
   "source": [
    "import matplotlib.pyplot as plt\n",
    "import xml.etree.ElementTree as et\n",
    "import pandas as pd\n",
    "import urllib.request\n",
    "from shapely.geometry import Point, shape\n",
    "import json\n",
    "import math"
   ]
  },
  {
   "cell_type": "code",
   "execution_count": 2,
   "metadata": {},
   "outputs": [],
   "source": [
    "def get_haversine_distance(point_1, point_2):\n",
    "    \"\"\"\n",
    "    Calculate the distance between any 2 points on earth given as [lon, lat]\n",
    "    \"\"\"\n",
    "    # convert decimal degrees to radians\n",
    "    lon1, lat1, lon2, lat2 = map(math.radians, [point_1[0], point_1[1], \n",
    "                                                point_2[0], point_2[1]])\n",
    "    # haversine formula \n",
    "    dlon = lon2 - lon1 \n",
    "    dlat = lat2 - lat1 \n",
    "    a = math.sin(dlat/2)**2 + math.cos(lat1) * math.cos(lat2) * math.sin(dlon/2)**2\n",
    "    c = 2 * math.asin(math.sqrt(a)) \n",
    "    r = 6371000 # Radius of earth in kilometers. Use 3956 for miles\n",
    "    return c * r"
   ]
  },
  {
   "cell_type": "code",
   "execution_count": 3,
   "metadata": {},
   "outputs": [],
   "source": [
    "city='Detroit'\n",
    "SIM_AREA_PATH='./cities/'+city+'/clean/table_area.geojson'\n",
    "SIM_NETWORK_PATH_ROOT='./cities/'+city+'/clean/'\n",
    "FW_PATH='./cities/'+city+'/clean/fw_result.json'\n",
    "INT_NET_LIST_PATH='./cities/'+city+'/clean/internal_net_list.json'\n",
    "INT_NET_NODE_LLS_PATH='./cities/'+city+'/clean/internal_net_node_lls.json'\n",
    "\n",
    "sim_area=json.load(open(SIM_AREA_PATH))\n",
    "\n",
    "full_area=[shape(f['geometry']) for f in sim_area['features']]\n",
    "bounds=[shp.bounds for shp in full_area]\n",
    "boundsAll=[min([b[0] for b in bounds]), #W\n",
    "               min([b[1] for b in bounds]), #S\n",
    "               max([b[2] for b in bounds]), #E\n",
    "               max([b[3] for b in bounds])] #N"
   ]
  },
  {
   "cell_type": "code",
   "execution_count": 4,
   "metadata": {},
   "outputs": [],
   "source": [
    "overpass_node_query='https://lz4.overpass-api.de/api/interpreter?data=[out:json][bbox];node;out;&bbox='+','.join([str(b) for b in boundsAll])\n",
    "overpass_way_query='https://lz4.overpass-api.de/api/interpreter?data=[out:json][bbox];way;out;&bbox='+','.join([str(b) for b in boundsAll])\n",
    "\n",
    "with urllib.request.urlopen(overpass_node_query) as url:\n",
    "    overpass_nodes=json.loads(url.read().decode())\n",
    "with urllib.request.urlopen(overpass_way_query) as url:\n",
    "    overpass_ways=json.loads(url.read().decode())"
   ]
  },
  {
   "cell_type": "code",
   "execution_count": 5,
   "metadata": {},
   "outputs": [],
   "source": [
    "nodes=overpass_nodes['elements']"
   ]
  },
  {
   "cell_type": "code",
   "execution_count": 6,
   "metadata": {},
   "outputs": [],
   "source": [
    "hw_ways=[]\n",
    "for way in overpass_ways['elements']:\n",
    "    if 'tags' in way:\n",
    "        if 'highway' in way['tags']:\n",
    "            hw_ways.append(way)"
   ]
  },
  {
   "cell_type": "code",
   "execution_count": 7,
   "metadata": {},
   "outputs": [
    {
     "data": {
      "text/plain": [
       "{'cycleway',\n",
       " 'footway',\n",
       " 'motorway',\n",
       " 'motorway_link',\n",
       " 'path',\n",
       " 'pedestrian',\n",
       " 'primary',\n",
       " 'primary_link',\n",
       " 'proposed',\n",
       " 'residential',\n",
       " 'secondary',\n",
       " 'secondary_link',\n",
       " 'service',\n",
       " 'steps',\n",
       " 'tertiary',\n",
       " 'tertiary_link',\n",
       " 'track',\n",
       " 'trunk_link',\n",
       " 'unclassified'}"
      ]
     },
     "execution_count": 7,
     "metadata": {},
     "output_type": "execute_result"
    }
   ],
   "source": [
    "edges_types=set([way['tags']['highway'] for way in hw_ways])\n",
    "edges_types"
   ]
  },
  {
   "cell_type": "code",
   "execution_count": 8,
   "metadata": {},
   "outputs": [],
   "source": [
    "drive_types=[t for t in edges_types if t not in ['footway', 'path', 'steps', 'pedestrian', 'track']]\n",
    "cycle_types=[t for t in edges_types if t not in [ 'steps']]\n",
    "pt_types=edges_types\n",
    "walk_types=edges_types"
   ]
  },
  {
   "cell_type": "code",
   "execution_count": 9,
   "metadata": {},
   "outputs": [],
   "source": [
    "def osm_to_geojson(ways, node_id_to_lon_lat, included_types, area, net_type):\n",
    "    features=[]\n",
    "    for way in ways:\n",
    "        if way['tags']['highway'] in included_types:\n",
    "            node_coords = []\n",
    "            for node_id in way['nodes']:\n",
    "                if node_id in node_id_to_lon_lat:\n",
    "                    node_coords.append(node_id_to_lon_lat[node_id])\n",
    "            in_sim_area=False\n",
    "            for nc in node_coords:\n",
    "                for feat in sim_area['features']:\n",
    "                    if shape(feat['geometry']).contains(Point(nc)):\n",
    "                        in_sim_area=True\n",
    "            if ((in_sim_area) and (len(node_coords)>1)):    \n",
    "                features.append({\"type\": \"Feature\",\n",
    "                                 \"properties\": {'edge_type': net_type},\n",
    "                                 'geometry': {\n",
    "                                         \"type\": \"LineString\",\n",
    "                                         'coordinates':node_coords},\n",
    "                                 })\n",
    "    geo= {\"type\": \"FeatureCollection\",\n",
    "            \"crs\": { \"type\": \"name\", \"properties\": { \"name\": \"epsg:4326\" } },\n",
    "            \"features\": features}\n",
    "    return geo"
   ]
  },
  {
   "cell_type": "code",
   "execution_count": 10,
   "metadata": {},
   "outputs": [],
   "source": [
    "node_id_to_lon_lat={}\n",
    "for node in nodes:\n",
    "    node_id_to_lon_lat[node['id']]=[node['lon'], node['lat']]"
   ]
  },
  {
   "cell_type": "code",
   "execution_count": 11,
   "metadata": {},
   "outputs": [],
   "source": [
    "drive_net_geo=osm_to_geojson(hw_ways, node_id_to_lon_lat, drive_types, sim_area,'driving')\n",
    "cycle_net_geo=osm_to_geojson(hw_ways, node_id_to_lon_lat, cycle_types, sim_area,'cycling')\n",
    "walk_net_geo=osm_to_geojson(hw_ways, node_id_to_lon_lat, walk_types, sim_area,'walking')\n",
    "pt_net_geo=osm_to_geojson(hw_ways, node_id_to_lon_lat, pt_types, sim_area,'pt')"
   ]
  },
  {
   "cell_type": "code",
   "execution_count": 12,
   "metadata": {},
   "outputs": [],
   "source": [
    "json.dump(drive_net_geo, open(SIM_NETWORK_PATH_ROOT+'driving_net_simple.geojson', 'w'))\n",
    "json.dump(walk_net_geo, open(SIM_NETWORK_PATH_ROOT+'walking_net_simple.geojson', 'w'))\n",
    "json.dump(pt_net_geo, open(SIM_NETWORK_PATH_ROOT+'pt_net_simple.geojson', 'w'))\n",
    "json.dump(cycle_net_geo, open(SIM_NETWORK_PATH_ROOT+'cycling_net_simple.geojson', 'w'))"
   ]
  },
  {
   "cell_type": "code",
   "execution_count": null,
   "metadata": {},
   "outputs": [],
   "source": []
  }
 ],
 "metadata": {
  "anaconda-cloud": {},
  "kernelspec": {
   "display_name": "Python 3",
   "language": "python",
   "name": "python3"
  },
  "language_info": {
   "codemirror_mode": {
    "name": "ipython",
    "version": 3
   },
   "file_extension": ".py",
   "mimetype": "text/x-python",
   "name": "python",
   "nbconvert_exporter": "python",
   "pygments_lexer": "ipython3",
   "version": "3.6.7"
  }
 },
 "nbformat": 4,
 "nbformat_minor": 2
}
